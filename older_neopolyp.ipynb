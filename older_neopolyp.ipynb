{
 "cells": [
  {
   "cell_type": "markdown",
   "id": "f738c237",
   "metadata": {
    "papermill": {
     "duration": 0.010434,
     "end_time": "2023-11-13T21:03:51.317549",
     "exception": false,
     "start_time": "2023-11-13T21:03:51.307115",
     "status": "completed"
    },
    "tags": []
   },
   "source": [
    "## Import neccessary model"
   ]
  },
  {
   "cell_type": "code",
   "execution_count": 1,
   "id": "7915b2ea",
   "metadata": {
    "execution": {
     "iopub.execute_input": "2023-11-13T21:03:51.339014Z",
     "iopub.status.busy": "2023-11-13T21:03:51.338621Z",
     "iopub.status.idle": "2023-11-13T21:03:58.946043Z",
     "shell.execute_reply": "2023-11-13T21:03:58.945259Z"
    },
    "papermill": {
     "duration": 7.620685,
     "end_time": "2023-11-13T21:03:58.948286",
     "exception": false,
     "start_time": "2023-11-13T21:03:51.327601",
     "status": "completed"
    },
    "tags": []
   },
   "outputs": [
    {
     "name": "stderr",
     "output_type": "stream",
     "text": [
      "/opt/conda/lib/python3.10/site-packages/scipy/__init__.py:146: UserWarning: A NumPy version >=1.16.5 and <1.23.0 is required for this version of SciPy (detected version 1.24.3\n",
      "  warnings.warn(f\"A NumPy version >={np_minversion} and <{np_maxversion}\"\n"
     ]
    }
   ],
   "source": [
    "# !pip install torchinfo\n",
    "import os\n",
    "import pandas as pd\n",
    "import numpy as np\n",
    "import cv2\n",
    "from torchvision.io import read_image\n",
    "import matplotlib.pyplot as plt\n",
    "from torch.utils.data import Dataset, random_split, DataLoader, ConcatDataset\n",
    "import albumentations as A\n",
    "from albumentations.pytorch.transforms import ToTensorV2\n",
    "from torch.optim.lr_scheduler import StepLR\n",
    "from torchvision.transforms import ToTensor\n",
    "from PIL import Image\n",
    "import os\n",
    "# from torchsummary import summary\n",
    "import torch\n",
    "import torch.nn as nn\n",
    "import torch.optim as optim\n",
    "import torchvision \n",
    "from torchvision import transforms\n",
    "from torchinfo import summary\n",
    "import timm"
   ]
  },
  {
   "cell_type": "markdown",
   "id": "c39812a9",
   "metadata": {
    "papermill": {
     "duration": 0.009631,
     "end_time": "2023-11-13T21:03:58.968263",
     "exception": false,
     "start_time": "2023-11-13T21:03:58.958632",
     "status": "completed"
    },
    "tags": []
   },
   "source": [
    "## Preprocessing Dataset: Conver mask to BRG, Override get_item,.."
   ]
  },
  {
   "cell_type": "code",
   "execution_count": 2,
   "id": "1b19087c",
   "metadata": {
    "execution": {
     "iopub.execute_input": "2023-11-13T21:03:58.989390Z",
     "iopub.status.busy": "2023-11-13T21:03:58.989074Z",
     "iopub.status.idle": "2023-11-13T21:03:59.003241Z",
     "shell.execute_reply": "2023-11-13T21:03:59.002357Z"
    },
    "papermill": {
     "duration": 0.02707,
     "end_time": "2023-11-13T21:03:59.005248",
     "exception": false,
     "start_time": "2023-11-13T21:03:58.978178",
     "status": "completed"
    },
    "tags": []
   },
   "outputs": [],
   "source": [
    "import os\n",
    "import cv2\n",
    "import torch\n",
    "from torch.utils.data import Dataset, DataLoader, ConcatDataset\n",
    "import albumentations as A\n",
    "from albumentations.pytorch import ToTensorV2\n",
    "import matplotlib.pyplot as plt\n",
    "\n",
    "class CustomDataset(Dataset):\n",
    "    def __init__(self, img_dir, label_dir, resize=None, transform=None):\n",
    "        self.img_dir = img_dir\n",
    "        self.label_dir = label_dir\n",
    "        self.resize = resize\n",
    "        self.transform = transform\n",
    "        self.images = [f for f in os.listdir(self.img_dir) if os.path.isfile(os.path.join(self.img_dir, f))]\n",
    "\n",
    "    def __len__(self):\n",
    "        return len(self.images)\n",
    "\n",
    "    def read_mask(self, mask_path):\n",
    "        image = cv2.imread(mask_path)\n",
    "        image = cv2.resize(image, self.resize)\n",
    "        image = cv2.cvtColor(image, cv2.COLOR_BGR2HSV)\n",
    "\n",
    "        red_mask = self.create_color_mask(image, (0, 100, 20), (10, 255, 255)) + \\\n",
    "                   self.create_color_mask(image, (160, 100, 20), (179, 255, 255))\n",
    "\n",
    "        green_mask = self.create_color_mask(image, (36, 25, 25), (70, 255, 255))\n",
    "\n",
    "        full_mask = np.bitwise_or(red_mask, green_mask).astype(np.uint8)\n",
    "        full_mask = np.expand_dims(full_mask, axis=-1)\n",
    "\n",
    "        return full_mask\n",
    "\n",
    "    def create_color_mask(self, image, lower, upper):\n",
    "        color_mask = cv2.inRange(image, np.array(lower), np.array(upper))\n",
    "        color_mask[color_mask != 0] = 1\n",
    "        return color_mask\n",
    "\n",
    "    def __getitem__(self, idx):\n",
    "        img_path = os.path.join(self.img_dir, self.images[idx])\n",
    "        label_path = os.path.join(self.label_dir, self.images[idx])\n",
    "\n",
    "        image = cv2.cvtColor(cv2.imread(img_path), cv2.COLOR_BGR2RGB)\n",
    "        label = self.read_mask(label_path)\n",
    "        image = cv2.resize(image, self.resize)\n",
    "\n",
    "        # Apply the same augmentation to both image and label\n",
    "        if self.transform:\n",
    "            augmented = self.transform(image=image, mask=label)\n",
    "            image = augmented['image']\n",
    "            label = augmented['mask']\n",
    "\n",
    "        label = label.permute(2, 0, 1).to(torch.float32)\n",
    "\n",
    "        return image, label\n",
    "\n",
    "\n"
   ]
  },
  {
   "cell_type": "code",
   "execution_count": 3,
   "id": "ba3ac03b",
   "metadata": {
    "execution": {
     "iopub.execute_input": "2023-11-13T21:03:59.026027Z",
     "iopub.status.busy": "2023-11-13T21:03:59.025756Z",
     "iopub.status.idle": "2023-11-13T21:03:59.031185Z",
     "shell.execute_reply": "2023-11-13T21:03:59.030429Z"
    },
    "papermill": {
     "duration": 0.018118,
     "end_time": "2023-11-13T21:03:59.033222",
     "exception": false,
     "start_time": "2023-11-13T21:03:59.015104",
     "status": "completed"
    },
    "tags": []
   },
   "outputs": [],
   "source": [
    "color_dict= {0: (0, 0, 0),\n",
    "             1: (255, 0, 0),\n",
    "             2: (0, 255, 0)}\n",
    "def mask_to_rgb(mask, color_dict):\n",
    "    output = np.zeros((mask.shape[0], mask.shape[1], 3))\n",
    "    for k in color_dict.keys():\n",
    "        output[mask==k] = color_dict[k]\n",
    "\n",
    "    return np.uint8(output)    "
   ]
  },
  {
   "cell_type": "markdown",
   "id": "33cab28d",
   "metadata": {
    "papermill": {
     "duration": 0.009622,
     "end_time": "2023-11-13T21:03:59.052930",
     "exception": false,
     "start_time": "2023-11-13T21:03:59.043308",
     "status": "completed"
    },
    "tags": []
   },
   "source": [
    "## Load dataset"
   ]
  },
  {
   "cell_type": "code",
   "execution_count": 4,
   "id": "ade6dfb1",
   "metadata": {
    "execution": {
     "iopub.execute_input": "2023-11-13T21:03:59.073597Z",
     "iopub.status.busy": "2023-11-13T21:03:59.073338Z",
     "iopub.status.idle": "2023-11-13T21:03:59.382595Z",
     "shell.execute_reply": "2023-11-13T21:03:59.381497Z"
    },
    "papermill": {
     "duration": 0.322044,
     "end_time": "2023-11-13T21:03:59.384788",
     "exception": false,
     "start_time": "2023-11-13T21:03:59.062744",
     "status": "completed"
    },
    "tags": []
   },
   "outputs": [
    {
     "data": {
      "text/plain": [
       "1000"
      ]
     },
     "execution_count": 4,
     "metadata": {},
     "output_type": "execute_result"
    }
   ],
   "source": [
    "image_path = []\n",
    "TRAIN_DIR = '/kaggle/input/bkai-igh-neopolyp/train/train'\n",
    "for root, dirs, files in os.walk(TRAIN_DIR):\n",
    "    # iterate over 1000 images\n",
    "    for file in files:\n",
    "        # create path\n",
    "        path = os.path.join(root,file)\n",
    "        # add path to list\n",
    "        image_path.append(path)\n",
    "len(image_path)"
   ]
  },
  {
   "cell_type": "code",
   "execution_count": 5,
   "id": "015475d2",
   "metadata": {
    "execution": {
     "iopub.execute_input": "2023-11-13T21:03:59.406475Z",
     "iopub.status.busy": "2023-11-13T21:03:59.406175Z",
     "iopub.status.idle": "2023-11-13T21:03:59.696821Z",
     "shell.execute_reply": "2023-11-13T21:03:59.695910Z"
    },
    "papermill": {
     "duration": 0.303726,
     "end_time": "2023-11-13T21:03:59.698943",
     "exception": false,
     "start_time": "2023-11-13T21:03:59.395217",
     "status": "completed"
    },
    "tags": []
   },
   "outputs": [
    {
     "data": {
      "text/plain": [
       "1000"
      ]
     },
     "execution_count": 5,
     "metadata": {},
     "output_type": "execute_result"
    }
   ],
   "source": [
    "mask_path = []\n",
    "TRAIN_MASK_DIR = '/kaggle/input/bkai-igh-neopolyp/train_gt/train_gt'\n",
    "for root, dirs, files in os.walk(TRAIN_MASK_DIR):\n",
    "    #iterate over 1000 masks\n",
    "    for file in files:\n",
    "        # obtain the path\"\n",
    "        path = os.path.join(root,file)\n",
    "        # add path to the list\n",
    "        mask_path.append(path)\n",
    "len(mask_path)"
   ]
  },
  {
   "cell_type": "markdown",
   "id": "824622df",
   "metadata": {
    "papermill": {
     "duration": 0.01008,
     "end_time": "2023-11-13T21:03:59.719993",
     "exception": false,
     "start_time": "2023-11-13T21:03:59.709913",
     "status": "completed"
    },
    "tags": []
   },
   "source": [
    "## Data Augmentation: Mix with original data, Normalize, Set batch size"
   ]
  },
  {
   "cell_type": "code",
   "execution_count": 6,
   "id": "cbe36d06",
   "metadata": {
    "execution": {
     "iopub.execute_input": "2023-11-13T21:03:59.741915Z",
     "iopub.status.busy": "2023-11-13T21:03:59.741377Z",
     "iopub.status.idle": "2023-11-13T21:03:59.785071Z",
     "shell.execute_reply": "2023-11-13T21:03:59.784165Z"
    },
    "papermill": {
     "duration": 0.056707,
     "end_time": "2023-11-13T21:03:59.786954",
     "exception": false,
     "start_time": "2023-11-13T21:03:59.730247",
     "status": "completed"
    },
    "tags": []
   },
   "outputs": [
    {
     "name": "stdout",
     "output_type": "stream",
     "text": [
      "2000\n"
     ]
    }
   ],
   "source": [
    "import cv2\n",
    "from torch.utils.data import DataLoader, ConcatDataset\n",
    "from torchvision.transforms import ToTensor\n",
    "import albumentations as A\n",
    "from albumentations.pytorch import ToTensorV2\n",
    "\n",
    "# Adjusted batch size\n",
    "batch_size = 4\n",
    "\n",
    "# Adjusted values for augmentation\n",
    "train_transform = A.Compose([\n",
    "    A.HorizontalFlip(p=0.5),\n",
    "    A.VerticalFlip(p=0.5),\n",
    "    A.RandomGamma (gamma_limit=(70, 130), eps=None, always_apply=False, p=0.2),\n",
    "    A.RGBShift(p=0.3, r_shift_limit=10, g_shift_limit=10, b_shift_limit=10),\n",
    "    A.OneOf([A.Blur(), A.GaussianBlur(), A.GlassBlur(), A.MotionBlur(), A.GaussNoise(), A.Sharpen(), A.MedianBlur(), A.MultiplicativeNoise()]),\n",
    "    A.CoarseDropout(p=0.2, max_height=35, max_width=35, fill_value=255),\n",
    "    A.RandomSnow(snow_point_lower=0.1, snow_point_upper=0.15, brightness_coeff=1.5, p=0.09),\n",
    "    A.RandomShadow(p=0.1),\n",
    "    A.ShiftScaleRotate(p=0.45, border_mode=cv2.BORDER_CONSTANT, shift_limit=0.15, scale_limit=0.15),\n",
    "    A.RandomCrop(256, 256),\n",
    "    A.Normalize(mean=(0.485, 0.456, 0.406), std=(0.229, 0.224, 0.225)),\n",
    "    ToTensorV2(),\n",
    "])\n",
    "\n",
    "val_transform = A.Compose([\n",
    "    A.Normalize(mean=(0.475, 0.450, 0.415), std=(0.239, 0.234, 0.225)),\n",
    "    ToTensorV2(),\n",
    "])\n",
    "new_train_transform = A.Compose([\n",
    "    A.HorizontalFlip(p=0.6),\n",
    "    A.VerticalFlip(p=0.6),\n",
    "    A.RandomGamma(gamma_limit=(60, 100), eps=None, always_apply=False, p=0.4),\n",
    "    A.RGBShift(p=0.4, r_shift_limit=9, g_shift_limit=3, b_shift_limit=5),\n",
    "    A.OneOf([A.Blur(), A.GaussianBlur(), A.GlassBlur(), A.MotionBlur(), A.GaussNoise(), A.Sharpen(), A.MedianBlur(), A.MultiplicativeNoise()]),\n",
    "    A.CoarseDropout(p=0.3, max_height=40, max_width=40, fill_value=255),\n",
    "    A.RandomSnow(snow_point_lower=0.08, snow_point_upper=0.13, brightness_coeff=1.7, p=0.1),\n",
    "    A.RandomShadow(p=0.15),\n",
    "    A.ShiftScaleRotate(p=0.5, border_mode=cv2.BORDER_CONSTANT, shift_limit=0.2, scale_limit=0.2),\n",
    "    A.RandomCrop(256, 256),\n",
    "    A.Normalize(mean=(0.485, 0.456, 0.406), std=(0.229, 0.224, 0.225)),\n",
    "    ToTensorV2(),\n",
    "])\n",
    "\n",
    "train_dataset_not_aug = CustomDataset(img_dir=TRAIN_DIR,\n",
    "                                          label_dir=TRAIN_MASK_DIR,\n",
    "                                          resize=(256, 256),\n",
    "                                          transform=val_transform)\n",
    "\n",
    "new_train_dataset_aug = CustomDataset(img_dir=TRAIN_DIR,\n",
    "                                          label_dir=TRAIN_MASK_DIR,\n",
    "                                          resize=(256, 256),\n",
    "                                          transform=new_train_transform)\n",
    "\n",
    "train_dataset_aug = CustomDataset(img_dir=TRAIN_DIR,\n",
    "                                      label_dir=TRAIN_MASK_DIR,\n",
    "                                      resize=(256, 256),\n",
    "                                      transform=train_transform)\n",
    "# train_dataset_not_aug, , \n",
    "train_dataset = ConcatDataset([new_train_dataset_aug, train_dataset_aug])\n",
    "\n",
    "train_loader = DataLoader(train_dataset, batch_size=batch_size, shuffle=True)\n",
    "print(len(train_dataset))\n"
   ]
  },
  {
   "cell_type": "code",
   "execution_count": 7,
   "id": "77ca69c3",
   "metadata": {
    "execution": {
     "iopub.execute_input": "2023-11-13T21:03:59.808629Z",
     "iopub.status.busy": "2023-11-13T21:03:59.808350Z",
     "iopub.status.idle": "2023-11-13T21:04:00.253650Z",
     "shell.execute_reply": "2023-11-13T21:04:00.252532Z"
    },
    "papermill": {
     "duration": 0.458672,
     "end_time": "2023-11-13T21:04:00.256054",
     "exception": false,
     "start_time": "2023-11-13T21:03:59.797382",
     "status": "completed"
    },
    "tags": []
   },
   "outputs": [
    {
     "name": "stdout",
     "output_type": "stream",
     "text": [
      "Image:  torch.Size([3, 256, 256]) Label:  torch.Size([1, 256, 256])\n"
     ]
    },
    {
     "data": {
      "image/png": "[encoded data removed]",
      "text/plain": [
       "<Figure size 1000x500 with 2 Axes>"
      ]
     },
     "metadata": {},
     "output_type": "display_data"
    }
   ],
   "source": [
    "image,label = train_dataset[300]\n",
    "print('Image: ', image.shape, 'Label: ', label.shape)\n",
    "\n",
    "label_array = label.permute(1, 2, 0).numpy()\n",
    "image_array = image.permute(1, 2, 0).numpy()\n",
    "# Create a figure with 2 subplots (1 row, 2 columns)\n",
    "fig, axs = plt.subplots(1, 2, figsize=(10, 5))\n",
    "\n",
    "axs[0].imshow(image_array)\n",
    "axs[0].set_title('Image')\n",
    "axs[0].axis('off')  \n",
    "\n",
    "axs[1].imshow(label_array)\n",
    "axs[1].set_title('Label')\n",
    "axs[1].axis('off')  \n",
    "\n",
    "plt.show()"
   ]
  },
  {
   "cell_type": "markdown",
   "id": "a5f5a53c",
   "metadata": {
    "papermill": {
     "duration": 0.012036,
     "end_time": "2023-11-13T21:04:00.280504",
     "exception": false,
     "start_time": "2023-11-13T21:04:00.268468",
     "status": "completed"
    },
    "tags": []
   },
   "source": [
    "## Encoder Block"
   ]
  },
  {
   "cell_type": "code",
   "execution_count": 8,
   "id": "0a3c95c6",
   "metadata": {
    "execution": {
     "iopub.execute_input": "2023-11-13T21:04:00.306102Z",
     "iopub.status.busy": "2023-11-13T21:04:00.305807Z",
     "iopub.status.idle": "2023-11-13T21:04:00.314320Z",
     "shell.execute_reply": "2023-11-13T21:04:00.313652Z"
    },
    "papermill": {
     "duration": 0.023388,
     "end_time": "2023-11-13T21:04:00.316115",
     "exception": false,
     "start_time": "2023-11-13T21:04:00.292727",
     "status": "completed"
    },
    "tags": []
   },
   "outputs": [],
   "source": [
    "class encoder_block(nn.Module):\n",
    "    def __init__(self, in_channels, out_channels):\n",
    "        super(encoder_block, self).__init__()\n",
    "        \n",
    "        self.conv1 = nn.Conv2d(in_channels, out_channels, kernel_size=3, stride=1, padding='same')\n",
    "        self.conv2 = nn.Conv2d(out_channels, out_channels, kernel_size=3, stride=1, padding='same')\n",
    "        \n",
    "        self.bn1 = nn.BatchNorm2d(out_channels)\n",
    "        self.bn2 = nn.BatchNorm2d(out_channels)\n",
    "        \n",
    "        self.relu = nn.ReLU()\n",
    "        self.dropout = nn.Dropout(p=0.3)\n",
    "        self.max_pool = nn.MaxPool2d(kernel_size=2, stride=2)\n",
    "        \n",
    "    def forward(self, x):\n",
    "        x = self.conv1(x)\n",
    "        x = self.bn1(x)\n",
    "        x = self.relu(x)\n",
    "        \n",
    "        x = self.dropout(x)\n",
    "        \n",
    "        x = self.conv2(x)\n",
    "        x = self.bn2(x)\n",
    "        x = self.relu(x)\n",
    "        \n",
    "        next_layer = self.max_pool(x)\n",
    "        skip_layer = x\n",
    "        \n",
    "        return next_layer, skip_layer"
   ]
  },
  {
   "cell_type": "markdown",
   "id": "8d80c536",
   "metadata": {
    "papermill": {
     "duration": 0.011828,
     "end_time": "2023-11-13T21:04:00.339760",
     "exception": false,
     "start_time": "2023-11-13T21:04:00.327932",
     "status": "completed"
    },
    "tags": []
   },
   "source": [
    "## Decoder Block"
   ]
  },
  {
   "cell_type": "code",
   "execution_count": 9,
   "id": "e6c99748",
   "metadata": {
    "execution": {
     "iopub.execute_input": "2023-11-13T21:04:00.364788Z",
     "iopub.status.busy": "2023-11-13T21:04:00.364284Z",
     "iopub.status.idle": "2023-11-13T21:04:00.372819Z",
     "shell.execute_reply": "2023-11-13T21:04:00.371950Z"
    },
    "papermill": {
     "duration": 0.023358,
     "end_time": "2023-11-13T21:04:00.374894",
     "exception": false,
     "start_time": "2023-11-13T21:04:00.351536",
     "status": "completed"
    },
    "tags": []
   },
   "outputs": [],
   "source": [
    "class decoder_block(nn.Module):\n",
    "    def __init__(self, in_channels, out_channels):\n",
    "        super(decoder_block, self).__init__()\n",
    "        \n",
    "        self.transpose_conv = nn.ConvTranspose2d(in_channels, out_channels, kernel_size=2, stride=2)\n",
    "        \n",
    "        self.conv1 = nn.Conv2d(2 * out_channels, out_channels, kernel_size=3, stride=1, padding='same')\n",
    "        self.conv2 = nn.Conv2d(out_channels, out_channels, kernel_size=3, stride=1, padding='same')\n",
    "        \n",
    "        self.bn1 = nn.BatchNorm2d(out_channels)\n",
    "        self.bn2 = nn.BatchNorm2d(out_channels)\n",
    "        \n",
    "        self.relu = nn.ReLU() \n",
    "        self.dropout = nn.Dropout(p=0.3)\n",
    "    \n",
    "    def forward(self, x, skip_layer):\n",
    "        x = self.transpose_conv(x)\n",
    "        x = torch.cat([x, skip_layer], axis=1)\n",
    "        \n",
    "        x = self.conv1(x)\n",
    "        x = self.bn1(x)\n",
    "        x = self.relu(x)\n",
    "        \n",
    "        x = self.dropout(x)\n",
    "        \n",
    "        x = self.conv2(x)\n",
    "        x = self.bn2(x)\n",
    "        x = self.relu(x)\n",
    "        \n",
    "        return x"
   ]
  },
  {
   "cell_type": "markdown",
   "id": "e470afd7",
   "metadata": {
    "papermill": {
     "duration": 0.011635,
     "end_time": "2023-11-13T21:04:00.398401",
     "exception": false,
     "start_time": "2023-11-13T21:04:00.386766",
     "status": "completed"
    },
    "tags": []
   },
   "source": [
    "## Bottleneck Block"
   ]
  },
  {
   "cell_type": "code",
   "execution_count": 10,
   "id": "b52fb3d0",
   "metadata": {
    "execution": {
     "iopub.execute_input": "2023-11-13T21:04:00.423364Z",
     "iopub.status.busy": "2023-11-13T21:04:00.423070Z",
     "iopub.status.idle": "2023-11-13T21:04:00.430501Z",
     "shell.execute_reply": "2023-11-13T21:04:00.429634Z"
    },
    "papermill": {
     "duration": 0.022175,
     "end_time": "2023-11-13T21:04:00.432418",
     "exception": false,
     "start_time": "2023-11-13T21:04:00.410243",
     "status": "completed"
    },
    "tags": []
   },
   "outputs": [],
   "source": [
    "class bottleneck_block(nn.Module):\n",
    "    def __init__(self, in_channels, out_channels):\n",
    "        super(bottleneck_block, self).__init__()\n",
    "        \n",
    "        self.conv1 = nn.Conv2d(in_channels, out_channels, kernel_size=3, stride=1, padding='same')\n",
    "        self.conv2 = nn.Conv2d(out_channels, out_channels, kernel_size=3, stride=1, padding='same')\n",
    "        \n",
    "        self.bn1 = nn.BatchNorm2d(out_channels)\n",
    "        self.bn2 = nn.BatchNorm2d(out_channels)\n",
    "        \n",
    "        self.relu = nn.ReLU()\n",
    "        self.dropout = nn.Dropout(p=0.3)\n",
    "        \n",
    "    def forward(self, x):\n",
    "        x = self.conv1(x)\n",
    "        x = self.bn1(x)\n",
    "        x = self.relu(x)\n",
    "        \n",
    "        x = self.dropout(x)\n",
    "        \n",
    "        x = self.conv2(x)\n",
    "        x = self.bn2(x)\n",
    "        x = self.relu(x)\n",
    "        \n",
    "        return x"
   ]
  },
  {
   "cell_type": "markdown",
   "id": "43547e6d",
   "metadata": {
    "papermill": {
     "duration": 0.011663,
     "end_time": "2023-11-13T21:04:00.456412",
     "exception": false,
     "start_time": "2023-11-13T21:04:00.444749",
     "status": "completed"
    },
    "tags": []
   },
   "source": [
    "## Full Unet"
   ]
  },
  {
   "cell_type": "code",
   "execution_count": 11,
   "id": "bf6990a0",
   "metadata": {
    "execution": {
     "iopub.execute_input": "2023-11-13T21:04:00.481923Z",
     "iopub.status.busy": "2023-11-13T21:04:00.481398Z",
     "iopub.status.idle": "2023-11-13T21:04:00.490683Z",
     "shell.execute_reply": "2023-11-13T21:04:00.489855Z"
    },
    "papermill": {
     "duration": 0.023922,
     "end_time": "2023-11-13T21:04:00.492541",
     "exception": false,
     "start_time": "2023-11-13T21:04:00.468619",
     "status": "completed"
    },
    "tags": []
   },
   "outputs": [],
   "source": [
    "# UNet model\n",
    "class UNet(nn.Module):\n",
    "    def __init__(self, n_class=3):\n",
    "        super(UNet, self).__init__()\n",
    "        # Encoder blocks\n",
    "        self.enc1 = encoder_block(3, 64)\n",
    "        self.enc2 = encoder_block(64, 128)\n",
    "        self.enc3 = encoder_block(128, 256)\n",
    "        self.enc4 = encoder_block(256, 512)\n",
    "        \n",
    "        # Bottleneck block\n",
    "        self.bottleneck = bottleneck_block(512, 1024)\n",
    "        \n",
    "        # Decoder blocks\n",
    "        self.dec1 = decoder_block(1024, 512)\n",
    "        self.dec2 = decoder_block(512, 256)\n",
    "        self.dec3 = decoder_block(256, 128)\n",
    "        self.dec4 = decoder_block(128, 64)\n",
    "        \n",
    "        # 1x1 convolution\n",
    "        self.out = nn.Conv2d(64, n_class, kernel_size=1, padding='same')\n",
    "        \n",
    "    def forward(self, image):\n",
    "        n1, s1 = self.enc1(image)\n",
    "        n2, s2 = self.enc2(n1)\n",
    "        n3, s3 = self.enc3(n2)\n",
    "        n4, s4 = self.enc4(n3)\n",
    "        \n",
    "        n5 = self.bottleneck(n4)\n",
    "        \n",
    "        n6 = self.dec1(n5, s4)\n",
    "        n7 = self.dec2(n6, s3)\n",
    "        n8 = self.dec3(n7, s2)\n",
    "        n9 = self.dec4(n8, s1)\n",
    "        \n",
    "        output = self.out(n9)\n",
    "        \n",
    "        return output"
   ]
  },
  {
   "cell_type": "markdown",
   "id": "a6dc15e3",
   "metadata": {
    "papermill": {
     "duration": 0.01164,
     "end_time": "2023-11-13T21:04:00.516250",
     "exception": false,
     "start_time": "2023-11-13T21:04:00.504610",
     "status": "completed"
    },
    "tags": []
   },
   "source": [
    "### Init Model Unet"
   ]
  },
  {
   "cell_type": "code",
   "execution_count": 12,
   "id": "f9e75213",
   "metadata": {
    "execution": {
     "iopub.execute_input": "2023-11-13T21:04:00.541330Z",
     "iopub.status.busy": "2023-11-13T21:04:00.541047Z",
     "iopub.status.idle": "2023-11-13T21:04:00.812437Z",
     "shell.execute_reply": "2023-11-13T21:04:00.811653Z"
    },
    "papermill": {
     "duration": 0.286652,
     "end_time": "2023-11-13T21:04:00.814860",
     "exception": false,
     "start_time": "2023-11-13T21:04:00.528208",
     "status": "completed"
    },
    "tags": []
   },
   "outputs": [],
   "source": [
    "torch.cuda.empty_cache()\n",
    "model = UNet(3)"
   ]
  },
  {
   "cell_type": "markdown",
   "id": "33f91a89",
   "metadata": {
    "papermill": {
     "duration": 0.012088,
     "end_time": "2023-11-13T21:04:00.888297",
     "exception": false,
     "start_time": "2023-11-13T21:04:00.876209",
     "status": "completed"
    },
    "tags": []
   },
   "source": [
    "### Setup hyperparameter for optimizer: Adam Optimizer"
   ]
  },
  {
   "cell_type": "code",
   "execution_count": 13,
   "id": "cc5b52f7",
   "metadata": {
    "execution": {
     "iopub.execute_input": "2023-11-13T21:04:00.914474Z",
     "iopub.status.busy": "2023-11-13T21:04:00.914136Z",
     "iopub.status.idle": "2023-11-13T21:04:00.918207Z",
     "shell.execute_reply": "2023-11-13T21:04:00.917393Z"
    },
    "papermill": {
     "duration": 0.019441,
     "end_time": "2023-11-13T21:04:00.920036",
     "exception": false,
     "start_time": "2023-11-13T21:04:00.900595",
     "status": "completed"
    },
    "tags": []
   },
   "outputs": [],
   "source": [
    "# Define the optimizer (e.g., Adam optimizer)\n",
    "# learning_rate = 0.01\n",
    "# optimizer = optim.Adam(model.parameters(), lr=learning_rate)"
   ]
  },
  {
   "cell_type": "markdown",
   "id": "d564ade9",
   "metadata": {
    "papermill": {
     "duration": 0.011898,
     "end_time": "2023-11-13T21:04:00.943949",
     "exception": false,
     "start_time": "2023-11-13T21:04:00.932051",
     "status": "completed"
    },
    "tags": []
   },
   "source": [
    "#### Load before continue training"
   ]
  },
  {
   "cell_type": "code",
   "execution_count": 14,
   "id": "e95bab9f",
   "metadata": {
    "execution": {
     "iopub.execute_input": "2023-11-13T21:04:00.969122Z",
     "iopub.status.busy": "2023-11-13T21:04:00.968793Z",
     "iopub.status.idle": "2023-11-13T21:04:07.000930Z",
     "shell.execute_reply": "2023-11-13T21:04:07.000004Z"
    },
    "papermill": {
     "duration": 6.047368,
     "end_time": "2023-11-13T21:04:07.003230",
     "exception": false,
     "start_time": "2023-11-13T21:04:00.955862",
     "status": "completed"
    },
    "tags": []
   },
   "outputs": [
    {
     "name": "stdout",
     "output_type": "stream",
     "text": [
      "The loss from the checkpoint is: 0.0317656238\n"
     ]
    }
   ],
   "source": [
    "checkpoint = torch.load('/kaggle/input/trained-model-4/colorization_model (4).pth')\n",
    "model.load_state_dict(checkpoint['model'])\n",
    "device = torch.device('cuda' if torch.cuda.is_available() else \"cpu\")\n",
    "model.to(device)\n",
    "\n",
    "optimizer = torch.optim.Adam(model.parameters(), lr=0.0001)  # Thay đổi các tham số theo cấu hình của bạn\n",
    "# Nạp trạng thái của optimizer từ checkpoint\n",
    "optimizer.load_state_dict(checkpoint['optimizer'])\n",
    "\n",
    "optimizer.param_groups[0]['lr'] = 0.00001\n",
    "weight_decay = 0.005  # Adjust as needed\n",
    "for param_group in optimizer.param_groups:\n",
    "    param_group['weight_decay'] = weight_decay\n",
    "# Sau khi nạp trạng thái, đưa cả model và optimizer lên device\n",
    "model.to(device)\n",
    "for state in optimizer.state.values():\n",
    "    for k, v in state.items():\n",
    "        if isinstance(v, torch.Tensor):\n",
    "            state[k] = v.to(device)\n",
    "loss_value = checkpoint['loss']\n",
    "# print('Old optimizer: ',checkpoint['optimizer'])\n",
    "\n",
    "print(f\"The loss from the checkpoint is: {loss_value:.10f}\")"
   ]
  },
  {
   "cell_type": "markdown",
   "id": "cf8f8eac",
   "metadata": {
    "papermill": {
     "duration": 0.011876,
     "end_time": "2023-11-13T21:04:07.027459",
     "exception": false,
     "start_time": "2023-11-13T21:04:07.015583",
     "status": "completed"
    },
    "tags": []
   },
   "source": [
    "## Setup Wandb"
   ]
  },
  {
   "cell_type": "code",
   "execution_count": 15,
   "id": "75497d30",
   "metadata": {
    "execution": {
     "iopub.execute_input": "2023-11-13T21:04:07.052864Z",
     "iopub.status.busy": "2023-11-13T21:04:07.052535Z",
     "iopub.status.idle": "2023-11-13T21:04:07.056485Z",
     "shell.execute_reply": "2023-11-13T21:04:07.055603Z"
    },
    "papermill": {
     "duration": 0.018928,
     "end_time": "2023-11-13T21:04:07.058345",
     "exception": false,
     "start_time": "2023-11-13T21:04:07.039417",
     "status": "completed"
    },
    "tags": []
   },
   "outputs": [],
   "source": [
    "import wandb\n",
    "# wandb.login()"
   ]
  },
  {
   "cell_type": "code",
   "execution_count": 16,
   "id": "c704886b",
   "metadata": {
    "execution": {
     "iopub.execute_input": "2023-11-13T21:04:07.083483Z",
     "iopub.status.busy": "2023-11-13T21:04:07.083201Z",
     "iopub.status.idle": "2023-11-13T21:04:10.595522Z",
     "shell.execute_reply": "2023-11-13T21:04:10.594409Z"
    },
    "papermill": {
     "duration": 3.527761,
     "end_time": "2023-11-13T21:04:10.597971",
     "exception": false,
     "start_time": "2023-11-13T21:04:07.070210",
     "status": "completed"
    },
    "tags": []
   },
   "outputs": [
    {
     "name": "stdout",
     "output_type": "stream",
     "text": [
      "\u001b[34m\u001b[1mwandb\u001b[0m: \u001b[33mWARNING\u001b[0m If you're specifying your api key in code, ensure this code is not shared publicly.\r\n",
      "\u001b[34m\u001b[1mwandb\u001b[0m: \u001b[33mWARNING\u001b[0m Consider setting the WANDB_API_KEY environment variable, or running `wandb login` from the command line.\r\n",
      "\u001b[34m\u001b[1mwandb\u001b[0m: Appending key for api.wandb.ai to your netrc file: /root/.netrc\r\n"
     ]
    }
   ],
   "source": [
    "\n",
    "!wandb login '39dfa65a7ff4076b9db7aaeed60ce25894d086b6'"
   ]
  },
  {
   "cell_type": "code",
   "execution_count": 17,
   "id": "524f34d9",
   "metadata": {
    "execution": {
     "iopub.execute_input": "2023-11-13T21:04:10.624454Z",
     "iopub.status.busy": "2023-11-13T21:04:10.624144Z",
     "iopub.status.idle": "2023-11-13T21:04:10.628390Z",
     "shell.execute_reply": "2023-11-13T21:04:10.627553Z"
    },
    "papermill": {
     "duration": 0.019747,
     "end_time": "2023-11-13T21:04:10.630314",
     "exception": false,
     "start_time": "2023-11-13T21:04:10.610567",
     "status": "completed"
    },
    "tags": []
   },
   "outputs": [],
   "source": [
    "# wandb login --relogin"
   ]
  },
  {
   "cell_type": "markdown",
   "id": "10953cd8",
   "metadata": {
    "papermill": {
     "duration": 0.011972,
     "end_time": "2023-11-13T21:04:10.654420",
     "exception": false,
     "start_time": "2023-11-13T21:04:10.642448",
     "status": "completed"
    },
    "tags": []
   },
   "source": [
    "39dfa65a7ff4076b9db7aaeed60ce25894d086b6"
   ]
  },
  {
   "cell_type": "code",
   "execution_count": 18,
   "id": "1284ffab",
   "metadata": {
    "execution": {
     "iopub.execute_input": "2023-11-13T21:04:10.681152Z",
     "iopub.status.busy": "2023-11-13T21:04:10.680520Z",
     "iopub.status.idle": "2023-11-13T21:04:42.808437Z",
     "shell.execute_reply": "2023-11-13T21:04:42.807141Z"
    },
    "papermill": {
     "duration": 32.146626,
     "end_time": "2023-11-13T21:04:42.813235",
     "exception": false,
     "start_time": "2023-11-13T21:04:10.666609",
     "status": "completed"
    },
    "tags": []
   },
   "outputs": [
    {
     "name": "stderr",
     "output_type": "stream",
     "text": [
      "\u001b[34m\u001b[1mwandb\u001b[0m: Currently logged in as: \u001b[33mthiemdrem2003\u001b[0m (\u001b[33mthiemcun\u001b[0m). Use \u001b[1m`wandb login --relogin`\u001b[0m to force relogin\n",
      "\u001b[34m\u001b[1mwandb\u001b[0m: wandb version 0.16.0 is available!  To upgrade, please run:\n",
      "\u001b[34m\u001b[1mwandb\u001b[0m:  $ pip install wandb --upgrade\n",
      "\u001b[34m\u001b[1mwandb\u001b[0m: Tracking run with wandb version 0.15.12\n",
      "\u001b[34m\u001b[1mwandb\u001b[0m: Run data is saved locally in \u001b[35m\u001b[1m/kaggle/working/wandb/run-20231113_210412-iaqvk81d\u001b[0m\n",
      "\u001b[34m\u001b[1mwandb\u001b[0m: Run \u001b[1m`wandb offline`\u001b[0m to turn off syncing.\n",
      "\u001b[34m\u001b[1mwandb\u001b[0m: Syncing run \u001b[33mtwilight-planet-21\u001b[0m\n",
      "\u001b[34m\u001b[1mwandb\u001b[0m: ⭐️ View project at \u001b[34m\u001b[4mhttps://wandb.ai/thiemcun/Polyp-DL\u001b[0m\n",
      "\u001b[34m\u001b[1mwandb\u001b[0m: 🚀 View run at \u001b[34m\u001b[4mhttps://wandb.ai/thiemcun/Polyp-DL/runs/iaqvk81d\u001b[0m\n"
     ]
    },
    {
     "data": {
      "text/html": [
       "<button onClick=\"this.nextSibling.style.display='block';this.style.display='none';\">Display W&B run</button><iframe src='https://wandb.ai/thiemcun/Polyp-DL/runs/iaqvk81d?jupyter=true' style='border:none;width:100%;height:420px;display:none;'></iframe>"
      ],
      "text/plain": [
       "<wandb.sdk.wandb_run.Run at 0x7c5329913d00>"
      ]
     },
     "execution_count": 18,
     "metadata": {},
     "output_type": "execute_result"
    }
   ],
   "source": [
    "\n",
    "wandb.init(\n",
    "    # set the wandb project where this run will be logged\n",
    "    project=\"Polyp-DL\",\n",
    "    \n",
    "    # track hyperparameters and run metadata\n",
    "    config={\n",
    "    \"learning_rate\": checkpoint['learning_rate'],\n",
    "    \"architecture\": \"UNet\",\n",
    "    \"dataset\": \"Polyp\",\n",
    "    \"epochs\": 250,\n",
    "    }\n",
    ")"
   ]
  },
  {
   "cell_type": "markdown",
   "id": "7a175863",
   "metadata": {
    "papermill": {
     "duration": 0.012977,
     "end_time": "2023-11-13T21:04:42.839312",
     "exception": false,
     "start_time": "2023-11-13T21:04:42.826335",
     "status": "completed"
    },
    "tags": []
   },
   "source": [
    "## Training Model"
   ]
  },
  {
   "cell_type": "code",
   "execution_count": 19,
   "id": "704837c2",
   "metadata": {
    "execution": {
     "iopub.execute_input": "2023-11-13T21:04:42.868681Z",
     "iopub.status.busy": "2023-11-13T21:04:42.867901Z",
     "iopub.status.idle": "2023-11-13T21:04:43.357190Z",
     "shell.execute_reply": "2023-11-13T21:04:43.356183Z"
    },
    "papermill": {
     "duration": 0.506972,
     "end_time": "2023-11-13T21:04:43.360539",
     "exception": false,
     "start_time": "2023-11-13T21:04:42.853567",
     "status": "completed"
    },
    "tags": []
   },
   "outputs": [],
   "source": [
    "from torch.utils.data import Subset\n",
    "new_train_transform = A.Compose([\n",
    "    A.HorizontalFlip(p=0.6),\n",
    "    A.VerticalFlip(p=0.6),\n",
    "    A.RandomGamma(gamma_limit=(60, 100), eps=None, always_apply=False, p=0.4),\n",
    "    A.RGBShift(p=0.4, r_shift_limit=9, g_shift_limit=3, b_shift_limit=5),\n",
    "    A.OneOf([A.Blur(), A.GaussianBlur(), A.GlassBlur(), A.MotionBlur(), A.GaussNoise(), A.Sharpen(), A.MedianBlur(), A.MultiplicativeNoise()]),\n",
    "    A.CoarseDropout(p=0.3, max_height=40, max_width=40, fill_value=255),\n",
    "    A.RandomSnow(snow_point_lower=0.08, snow_point_upper=0.13, brightness_coeff=1.7, p=0.1),\n",
    "    A.RandomShadow(p=0.15),\n",
    "    A.ShiftScaleRotate(p=0.5, border_mode=cv2.BORDER_CONSTANT, shift_limit=0.2, scale_limit=0.2),\n",
    "    A.RandomCrop(256, 256),\n",
    "    A.Normalize(mean=(0.485, 0.456, 0.406), std=(0.229, 0.224, 0.225)),\n",
    "    ToTensorV2(),\n",
    "])\n",
    "\n",
    "val_batch_size = 4\n",
    "subset_size = 100\n",
    "subset_indices = list(range(subset_size))\n",
    "\n",
    "# Create datasets for validation\n",
    "val_dataset = CustomDataset(img_dir=TRAIN_DIR,  # Assuming you have a separate directory for validation data\n",
    "                            label_dir=TRAIN_MASK_DIR,\n",
    "                            resize=(256, 256),\n",
    "                            transform=new_train_transform)\n",
    "\n",
    "\n",
    "val_dataset = Subset(val_dataset, subset_indices)\n",
    "\n",
    "# Create validation data loader\n",
    "val_loader = DataLoader(val_dataset, batch_size=val_batch_size, shuffle=False)"
   ]
  },
  {
   "cell_type": "code",
   "execution_count": 20,
   "id": "dcfaf0f5",
   "metadata": {
    "execution": {
     "iopub.execute_input": "2023-11-13T21:04:43.393747Z",
     "iopub.status.busy": "2023-11-13T21:04:43.393437Z",
     "iopub.status.idle": "2023-11-13T21:32:04.746962Z",
     "shell.execute_reply": "2023-11-13T21:32:04.745994Z"
    },
    "papermill": {
     "duration": 1641.371267,
     "end_time": "2023-11-13T21:32:04.750231",
     "exception": false,
     "start_time": "2023-11-13T21:04:43.378964",
     "status": "completed"
    },
    "tags": []
   },
   "outputs": [
    {
     "name": "stdout",
     "output_type": "stream",
     "text": [
      "Epoch [1/250], Loss: 14.3420897408\n",
      "Save model\n",
      "Epoch [2/250], Loss: 13.7074033699\n",
      "Save model\n",
      "Epoch [3/250], Loss: 13.2651292477\n",
      "Save model\n",
      "Epoch [4/250], Loss: 12.8840891628\n",
      "Save model\n",
      "Epoch [5/250], Loss: 12.5329069405\n",
      "Save model\n",
      "Epoch [6/250], Loss: 12.2005348873\n",
      "Save model\n",
      "Epoch [7/250], Loss: 11.8804589806\n",
      "Save model\n",
      "Epoch [8/250], Loss: 11.5753744678\n",
      "Save model\n",
      "Epoch [9/250], Loss: 11.2762245464\n",
      "Save model\n",
      "Epoch [10/250], Loss: 10.9883090038\n",
      "Save model\n",
      "Epoch [11/250], Loss: 10.7039027195\n",
      "Save model\n",
      "Epoch [12/250], Loss: 10.4275875587\n",
      "Save model\n",
      "Save model\n",
      "Early stopping after 12 epochs. Best Validation Loss: 0.0535373192\n"
     ]
    }
   ],
   "source": [
    "# Set the number of training epochs\n",
    "num_epochs = 250\n",
    "# \n",
    "\n",
    "# Define the learning rate scheduler\n",
    "# scheduler = StepLR(optimizer, step_size= 5, gamma=0.85)\n",
    "# Move the model to the device (e.g., GPU)\n",
    "device = torch.device('cuda' if torch.cuda.is_available() else \"cpu\")\n",
    "model.to(device)\n",
    "criterion = nn.CrossEntropyLoss()\n",
    "train_loss_array = []\n",
    "# best_loss = checkpoint['loss']\n",
    "best_loss = 999\n",
    "# Training loop\n",
    "\n",
    "early_stopping_threshold = 10  # Stop if validation loss doesn't improve for this many epochs\n",
    "early_stopping_counter = 0\n",
    "best_val_loss = float('inf')\n",
    "\n",
    "for epoch in range(num_epochs):\n",
    "    model.train() # turn train mode\n",
    "    total_loss = 0\n",
    "    for images, labels in train_loader:\n",
    "        images = images.to(device)\n",
    "        labels = labels.to(device)\n",
    "        # Forward pass\n",
    "        labels = labels.squeeze(dim=1).long()\n",
    "\n",
    "        outputs = model(images)\n",
    "\n",
    "        loss = criterion(outputs, labels)\n",
    "        \n",
    "        l2_regularization = torch.tensor(0., device=device)\n",
    "        for param in model.parameters():\n",
    "            l2_regularization += torch.norm(param, 2)\n",
    "        loss += weight_decay * l2_regularization\n",
    "        \n",
    "        # Backward pass and optimization\n",
    "        loss.backward()\n",
    "        optimizer.step()\n",
    "        optimizer.zero_grad() # reset for new gradient \n",
    "        total_loss += loss.item()  # Accumulate the loss\n",
    "        wandb.log({'Loss_batch': loss.item()\n",
    "              })\n",
    "    # Update the learning rate\n",
    "#     scheduler.step()\n",
    "\n",
    "    # Calculate average loss for the epoch\n",
    "    epoch_loss = total_loss / len(train_loader)\n",
    "    train_loss_array.append(epoch_loss)\n",
    "    wandb.log({'loss': epoch_loss, 'Learning Rate': optimizer.param_groups[0]['lr']\n",
    "              })\n",
    "    print(f\"Epoch [{epoch+1}/{num_epochs}], Loss: {epoch_loss:.10f}\")\n",
    "    if epoch_loss < best_loss:\n",
    "        best_loss = epoch_loss\n",
    "        checkpoint = { \n",
    "            'epoch': epoch,\n",
    "            'model': model.state_dict(),\n",
    "            'optimizer': optimizer.state_dict(),\n",
    "            'loss': epoch_loss,\n",
    "            'learning_rate': optimizer.param_groups[0]['lr']\n",
    "        }\n",
    "        save_path = f'colorization_model.pth'\n",
    "        torch.save(checkpoint, save_path)\n",
    "        print('Save model')\n",
    "    model.eval()\n",
    "    with torch.no_grad():\n",
    "        # Compute validation loss\n",
    "        val_loss = 0\n",
    "        for val_images, val_labels in val_loader:\n",
    "            val_images = val_images.to(device)\n",
    "            val_labels = val_labels.to(device)\n",
    "            val_labels = val_labels.squeeze(dim=1).long()\n",
    "            val_outputs = model(val_images)\n",
    "            val_loss += criterion(val_outputs, val_labels).item()\n",
    "\n",
    "        average_val_loss = val_loss / len(val_loader)\n",
    "\n",
    "        # Early stopping check\n",
    "        if average_val_loss < best_val_loss:\n",
    "            best_val_loss = average_val_loss\n",
    "            early_stopping_counter = 0\n",
    "        else:\n",
    "            early_stopping_counter += 1\n",
    "\n",
    "        # If validation loss doesn't improve for a certain number of epochs, stop training\n",
    "        if early_stopping_counter >= early_stopping_threshold:\n",
    "            checkpoint = { \n",
    "            'epoch': epoch,\n",
    "            'model': model.state_dict(),\n",
    "            'optimizer': optimizer.state_dict(),\n",
    "            'loss': epoch_loss,\n",
    "            'learning_rate': optimizer.param_groups[0]['lr']\n",
    "            }\n",
    "            save_path = f'colorization_model.pth'\n",
    "            torch.save(checkpoint, save_path)\n",
    "            print('Save model')\n",
    "            print(f\"Early stopping after {epoch+1} epochs. Best Validation Loss: {best_val_loss:.10f}\")\n",
    "            break\n"
   ]
  },
  {
   "cell_type": "markdown",
   "id": "8a5bae08",
   "metadata": {
    "papermill": {
     "duration": 0.014791,
     "end_time": "2023-11-13T21:32:04.789194",
     "exception": false,
     "start_time": "2023-11-13T21:32:04.774403",
     "status": "completed"
    },
    "tags": []
   },
   "source": [
    "## Load Model from Checkpoint"
   ]
  },
  {
   "cell_type": "code",
   "execution_count": 21,
   "id": "5fc7e30a",
   "metadata": {
    "execution": {
     "iopub.execute_input": "2023-11-13T21:32:04.820738Z",
     "iopub.status.busy": "2023-11-13T21:32:04.820372Z",
     "iopub.status.idle": "2023-11-13T21:32:04.825206Z",
     "shell.execute_reply": "2023-11-13T21:32:04.824407Z"
    },
    "papermill": {
     "duration": 0.023169,
     "end_time": "2023-11-13T21:32:04.827260",
     "exception": false,
     "start_time": "2023-11-13T21:32:04.804091",
     "status": "completed"
    },
    "tags": []
   },
   "outputs": [],
   "source": [
    "# checkpoint = torch.load('/kaggle/working/colorization_model.pth')\n",
    "# model.load_state_dict(checkpoint['model'])\n",
    "# device = torch.device('cuda' if torch.cuda.is_available() else \"cpu\")\n",
    "# model.to(device)\n",
    "# optimizer = torch.optim.Adam(model.parameters(), lr=0.0001)  # Thay đổi các tham số theo cấu hình của bạn\n",
    "\n",
    "# # Nạp trạng thái của optimizer từ checkpoint\n",
    "# optimizer.load_state_dict(checkpoint['optimizer'])\n",
    "\n",
    "# # Sau khi nạp trạng thái, đưa cả model và optimizer lên device\n",
    "# model.to(device)\n",
    "# for state in optimizer.state.values():\n",
    "#     for k, v in state.items():\n",
    "#         if isinstance(v, torch.Tensor):\n",
    "#             state[k] = v.to(device)\n",
    "# loss_value = checkpoint['loss']\n",
    "\n",
    "# # Move the loss tensor to the appropriate device\n",
    "# # loss_tensor = loss_tensor.to(device)\n",
    "\n",
    "# # If you need to use the loss as a Python scalar, for example for printing or comparisons:\n",
    "# # loss_value = loss_tensor.item()\n",
    "\n",
    "# # Now you can print or compare `loss_value` as needed\n",
    "# print(f\"The loss from the checkpoint is: {loss_value:.10f}\")"
   ]
  },
  {
   "cell_type": "markdown",
   "id": "44fc8254",
   "metadata": {
    "papermill": {
     "duration": 0.014715,
     "end_time": "2023-11-13T21:32:04.857190",
     "exception": false,
     "start_time": "2023-11-13T21:32:04.842475",
     "status": "completed"
    },
    "tags": []
   },
   "source": [
    "### Save Ouput"
   ]
  },
  {
   "cell_type": "code",
   "execution_count": 22,
   "id": "8f1fd46d",
   "metadata": {
    "execution": {
     "iopub.execute_input": "2023-11-13T21:32:04.888156Z",
     "iopub.status.busy": "2023-11-13T21:32:04.887866Z",
     "iopub.status.idle": "2023-11-13T21:32:05.892772Z",
     "shell.execute_reply": "2023-11-13T21:32:05.891597Z"
    },
    "papermill": {
     "duration": 1.023027,
     "end_time": "2023-11-13T21:32:05.895007",
     "exception": false,
     "start_time": "2023-11-13T21:32:04.871980",
     "status": "completed"
    },
    "tags": []
   },
   "outputs": [],
   "source": [
    "!mkdir predict_mask\n",
    "# !mkdir test_overlapmask"
   ]
  },
  {
   "cell_type": "code",
   "execution_count": 23,
   "id": "1839d35e",
   "metadata": {
    "execution": {
     "iopub.execute_input": "2023-11-13T21:32:05.927490Z",
     "iopub.status.busy": "2023-11-13T21:32:05.927172Z",
     "iopub.status.idle": "2023-11-13T21:32:31.705582Z",
     "shell.execute_reply": "2023-11-13T21:32:31.704508Z"
    },
    "papermill": {
     "duration": 25.796683,
     "end_time": "2023-11-13T21:32:31.707732",
     "exception": false,
     "start_time": "2023-11-13T21:32:05.911049",
     "status": "completed"
    },
    "tags": []
   },
   "outputs": [
    {
     "name": "stdout",
     "output_type": "stream",
     "text": [
      "processed  /kaggle/input/bkai-igh-neopolyp/test/test/f62f215f0da4ad3a7ab8df9da7386835.jpeg\n",
      "processed  /kaggle/input/bkai-igh-neopolyp/test/test/aeeb2b535797395305af926a6f23c5d6.jpeg\n",
      "processed  /kaggle/input/bkai-igh-neopolyp/test/test/2ed9fbb63b28163a745959c03983064a.jpeg\n",
      "processed  /kaggle/input/bkai-igh-neopolyp/test/test/3c84417fda8019410b1fcf0625f608b4.jpeg\n",
      "processed  /kaggle/input/bkai-igh-neopolyp/test/test/8fa8625605da2023387fd56c04414eaa.jpeg\n",
      "processed  /kaggle/input/bkai-igh-neopolyp/test/test/cb1b387133b51209db6dcdda5cc8a788.jpeg\n",
      "processed  /kaggle/input/bkai-igh-neopolyp/test/test/a3657e4314fe384eb2ba3adfda6c1899.jpeg\n",
      "processed  /kaggle/input/bkai-igh-neopolyp/test/test/c695325ded465efde988dfb96d081533.jpeg\n",
      "processed  /kaggle/input/bkai-igh-neopolyp/test/test/0fca6a4248a41e8db8b4ed633b456aaa.jpeg\n",
      "processed  /kaggle/input/bkai-igh-neopolyp/test/test/6f4d4987ea3b4bae5672a230194c5a08.jpeg\n",
      "processed  /kaggle/input/bkai-igh-neopolyp/test/test/68d4b4ef4d95ceea11957998906d3694.jpeg\n",
      "processed  /kaggle/input/bkai-igh-neopolyp/test/test/559c7e610b1531871f2fd85a04faeeb2.jpeg\n",
      "processed  /kaggle/input/bkai-igh-neopolyp/test/test/e5e8f14e1e0ae936de314f2d95e6c487.jpeg\n",
      "processed  /kaggle/input/bkai-igh-neopolyp/test/test/3c3ca4d5060a633a8d5b2b2b55157b77.jpeg\n",
      "processed  /kaggle/input/bkai-igh-neopolyp/test/test/6d3694abb47953b0e4909384b57bb6a0.jpeg\n",
      "processed  /kaggle/input/bkai-igh-neopolyp/test/test/c7e610b1531871f2fd85a04faeeb2b53.jpeg\n",
      "processed  /kaggle/input/bkai-igh-neopolyp/test/test/7cdf3f33c3ca4d5060a633a8d5b2b2b5.jpeg\n",
      "processed  /kaggle/input/bkai-igh-neopolyp/test/test/e2cd066b9fdbc3bbc04a3afe1f119f21.jpeg\n",
      "processed  /kaggle/input/bkai-igh-neopolyp/test/test/b21960c94b0aab4c024a573c692195f8.jpeg\n",
      "processed  /kaggle/input/bkai-igh-neopolyp/test/test/cb2eb1ef57af2ed9fbb63b28163a7459.jpeg\n",
      "processed  /kaggle/input/bkai-igh-neopolyp/test/test/3bbc04a3afe1f119f21b248d152b672a.jpeg\n",
      "processed  /kaggle/input/bkai-igh-neopolyp/test/test/e1e0ae936de314f2d95e6c487ffa651b.jpeg\n",
      "processed  /kaggle/input/bkai-igh-neopolyp/test/test/d077bad31c8c5f54ffaa27a623511c38.jpeg\n",
      "processed  /kaggle/input/bkai-igh-neopolyp/test/test/2cd066b9fdbc3bbc04a3afe1f119f21b.jpeg\n",
      "processed  /kaggle/input/bkai-igh-neopolyp/test/test/e19769fa2d37d32780fd497e1c0e9082.jpeg\n",
      "processed  /kaggle/input/bkai-igh-neopolyp/test/test/af35b65bd9ea42cfcfedb5eb2a0e4b50.jpeg\n",
      "processed  /kaggle/input/bkai-igh-neopolyp/test/test/26679bff55177a34fc01019eec999fd8.jpeg\n",
      "processed  /kaggle/input/bkai-igh-neopolyp/test/test/8cbdf366e057db382b8564872a27301a.jpeg\n",
      "processed  /kaggle/input/bkai-igh-neopolyp/test/test/e1797c77826f9a7021bab9fc73303988.jpeg\n",
      "processed  /kaggle/input/bkai-igh-neopolyp/test/test/d694539ef2424a9218697283baa3657e.jpeg\n",
      "processed  /kaggle/input/bkai-igh-neopolyp/test/test/eecd70ebce6347c491b37c8c2e5a64a8.jpeg\n",
      "processed  /kaggle/input/bkai-igh-neopolyp/test/test/d6bf62f215f0da4ad3a7ab8df9da7386.jpeg\n",
      "processed  /kaggle/input/bkai-igh-neopolyp/test/test/5b21960c94b0aab4c024a573c692195f.jpeg\n",
      "processed  /kaggle/input/bkai-igh-neopolyp/test/test/5a51625559c7e610b1531871f2fd85a0.jpeg\n",
      "processed  /kaggle/input/bkai-igh-neopolyp/test/test/3657e4314fe384eb2ba3adfda6c1899f.jpeg\n",
      "processed  /kaggle/input/bkai-igh-neopolyp/test/test/7ad1cf2eb9d32a3dc907950289e976c7.jpeg\n",
      "processed  /kaggle/input/bkai-igh-neopolyp/test/test/677a6b1f2c6d40b3bbba8f6c704801b3.jpeg\n",
      "processed  /kaggle/input/bkai-igh-neopolyp/test/test/bec33b5e3d68f9d4c331587f9b9d49e2.jpeg\n",
      "processed  /kaggle/input/bkai-igh-neopolyp/test/test/c22268d4b4ef4d95ceea11957998906d.jpeg\n",
      "processed  /kaggle/input/bkai-igh-neopolyp/test/test/be86f03d900fd197cd955fa095f97845.jpeg\n",
      "processed  /kaggle/input/bkai-igh-neopolyp/test/test/391adc0bb223c4eaf3372eae567c94ea.jpeg\n",
      "processed  /kaggle/input/bkai-igh-neopolyp/test/test/f7fdb2d45b21960c94b0aab4c024a573.jpeg\n",
      "processed  /kaggle/input/bkai-igh-neopolyp/test/test/a51625559c7e610b1531871f2fd85a04.jpeg\n",
      "processed  /kaggle/input/bkai-igh-neopolyp/test/test/461c2a337948a41964c1d4f50a5f3601.jpeg\n",
      "processed  /kaggle/input/bkai-igh-neopolyp/test/test/1ad4f13ccf1f4b331a412fc44655fb51.jpeg\n",
      "processed  /kaggle/input/bkai-igh-neopolyp/test/test/dd78294679c9cbb2a365b5574868eb60.jpeg\n",
      "processed  /kaggle/input/bkai-igh-neopolyp/test/test/54ba59c7de13a35276a476420655433a.jpeg\n",
      "processed  /kaggle/input/bkai-igh-neopolyp/test/test/77e004e8bfb905b78a91391adc0bb223.jpeg\n",
      "processed  /kaggle/input/bkai-igh-neopolyp/test/test/e3c84417fda8019410b1fcf0625f608b.jpeg\n",
      "processed  /kaggle/input/bkai-igh-neopolyp/test/test/97e1c0e9082ea2c193ac8d551c149b60.jpeg\n",
      "processed  /kaggle/input/bkai-igh-neopolyp/test/test/3c692195f853af7f8a4df1ec859759b7.jpeg\n",
      "processed  /kaggle/input/bkai-igh-neopolyp/test/test/cdf3f33c3ca4d5060a633a8d5b2b2b55.jpeg\n",
      "processed  /kaggle/input/bkai-igh-neopolyp/test/test/7af2ed9fbb63b28163a745959c039830.jpeg\n",
      "processed  /kaggle/input/bkai-igh-neopolyp/test/test/5e8f14e1e0ae936de314f2d95e6c487f.jpeg\n",
      "processed  /kaggle/input/bkai-igh-neopolyp/test/test/afe1f119f21b248d152b672ab3492fc6.jpeg\n",
      "processed  /kaggle/input/bkai-igh-neopolyp/test/test/b70dd094a7f32574d6c748c41743c6c0.jpeg\n",
      "processed  /kaggle/input/bkai-igh-neopolyp/test/test/ff55177a34fc01019eec999fd84e679b.jpeg\n",
      "processed  /kaggle/input/bkai-igh-neopolyp/test/test/fb905b78a91391adc0bb223c4eaf3372.jpeg\n",
      "processed  /kaggle/input/bkai-igh-neopolyp/test/test/6ddca6ee1af35b65bd9ea42cfcfedb5e.jpeg\n",
      "processed  /kaggle/input/bkai-igh-neopolyp/test/test/87133b51209db6dcdda5cc8a788edaeb.jpeg\n",
      "processed  /kaggle/input/bkai-igh-neopolyp/test/test/7936140a2d5fc1443c4e445927738677.jpeg\n",
      "processed  /kaggle/input/bkai-igh-neopolyp/test/test/82ea2c193ac8d551c149b60f2965341c.jpeg\n",
      "processed  /kaggle/input/bkai-igh-neopolyp/test/test/3dd311a65d2b46d0a6085835c525af63.jpeg\n",
      "processed  /kaggle/input/bkai-igh-neopolyp/test/test/3f33c3ca4d5060a633a8d5b2b2b55157.jpeg\n",
      "processed  /kaggle/input/bkai-igh-neopolyp/test/test/7f0019f7e6af7d7147763bdfb928d788.jpeg\n",
      "processed  /kaggle/input/bkai-igh-neopolyp/test/test/9c7976c1182df0de51d32128c358d1fd.jpeg\n",
      "processed  /kaggle/input/bkai-igh-neopolyp/test/test/a9d45c3dbc695325ded465efde988dfb.jpeg\n",
      "processed  /kaggle/input/bkai-igh-neopolyp/test/test/ea42b4eebc9e5a87e443434ac60af150.jpeg\n",
      "processed  /kaggle/input/bkai-igh-neopolyp/test/test/67d4dcf9596154efb7cef748d9cbd617.jpeg\n",
      "processed  /kaggle/input/bkai-igh-neopolyp/test/test/625559c7e610b1531871f2fd85a04fae.jpeg\n",
      "processed  /kaggle/input/bkai-igh-neopolyp/test/test/1b62f15ec83b97bb11e8e0c4416c1931.jpeg\n",
      "processed  /kaggle/input/bkai-igh-neopolyp/test/test/780fd497e1c0e9082ea2c193ac8d551c.jpeg\n",
      "processed  /kaggle/input/bkai-igh-neopolyp/test/test/a6d9ba9d45c3dbc695325ded465efde9.jpeg\n",
      "processed  /kaggle/input/bkai-igh-neopolyp/test/test/f14e1e0ae936de314f2d95e6c487ffa6.jpeg\n",
      "processed  /kaggle/input/bkai-igh-neopolyp/test/test/a15fc656702fa602bb3c7abacdbd7e6a.jpeg\n",
      "processed  /kaggle/input/bkai-igh-neopolyp/test/test/dd094a7f32574d6c748c41743c6c08a1.jpeg\n",
      "processed  /kaggle/input/bkai-igh-neopolyp/test/test/314fe384eb2ba3adfda6c1899fdc9837.jpeg\n",
      "processed  /kaggle/input/bkai-igh-neopolyp/test/test/6b83ef461c2a337948a41964c1d4f50a.jpeg\n",
      "processed  /kaggle/input/bkai-igh-neopolyp/test/test/88e16d4ca6160127cd1d5ff99c267599.jpeg\n",
      "processed  /kaggle/input/bkai-igh-neopolyp/test/test/1209db6dcdda5cc8a788edaeb6aa460a.jpeg\n",
      "processed  /kaggle/input/bkai-igh-neopolyp/test/test/f8e26031fbb5e52c41545ba55aadaa77.jpeg\n",
      "processed  /kaggle/input/bkai-igh-neopolyp/test/test/aafac813fe3ccba3e032dd2948a80c64.jpeg\n",
      "processed  /kaggle/input/bkai-igh-neopolyp/test/test/7cb2eb1ef57af2ed9fbb63b28163a745.jpeg\n",
      "processed  /kaggle/input/bkai-igh-neopolyp/test/test/cbb2a365b5574868eb60861ee1ff0b8a.jpeg\n",
      "processed  /kaggle/input/bkai-igh-neopolyp/test/test/6679bff55177a34fc01019eec999fd84.jpeg\n",
      "processed  /kaggle/input/bkai-igh-neopolyp/test/test/6231002ec4a1fe748f3085f1ce88cbdf.jpeg\n",
      "processed  /kaggle/input/bkai-igh-neopolyp/test/test/e73749a0d21db70dd094a7f32574d6c7.jpeg\n",
      "processed  /kaggle/input/bkai-igh-neopolyp/test/test/05b78a91391adc0bb223c4eaf3372eae.jpeg\n",
      "processed  /kaggle/input/bkai-igh-neopolyp/test/test/c193ac8d551c149b60f2965341caf528.jpeg\n",
      "processed  /kaggle/input/bkai-igh-neopolyp/test/test/e56a6d9ba9d45c3dbc695325ded465ef.jpeg\n",
      "processed  /kaggle/input/bkai-igh-neopolyp/test/test/4417fda8019410b1fcf0625f608b4ce9.jpeg\n",
      "processed  /kaggle/input/bkai-igh-neopolyp/test/test/2a365b5574868eb60861ee1ff0b8a4f6.jpeg\n",
      "processed  /kaggle/input/bkai-igh-neopolyp/test/test/0398846f67b5df7cdf3f33c3ca4d5060.jpeg\n",
      "processed  /kaggle/input/bkai-igh-neopolyp/test/test/a48847ae8395e56a6d9ba9d45c3dbc69.jpeg\n",
      "processed  /kaggle/input/bkai-igh-neopolyp/test/test/63b8318ecf467d7ad048df39beb17636.jpeg\n",
      "processed  /kaggle/input/bkai-igh-neopolyp/test/test/0a0317371a966bf4b3466463a3c64db1.jpeg\n",
      "processed  /kaggle/input/bkai-igh-neopolyp/test/test/4ef4d95ceea11957998906d3694abb47.jpeg\n",
      "processed  /kaggle/input/bkai-igh-neopolyp/test/test/80cae6daedd989517cb8041ed86e5822.jpeg\n",
      "processed  /kaggle/input/bkai-igh-neopolyp/test/test/fdbc3bbc04a3afe1f119f21b248d152b.jpeg\n",
      "processed  /kaggle/input/bkai-igh-neopolyp/test/test/1002ec4a1fe748f3085f1ce88cbdf366.jpeg\n",
      "processed  /kaggle/input/bkai-igh-neopolyp/test/test/626650908b1cb932a767bf5487ced51b.jpeg\n",
      "processed  /kaggle/input/bkai-igh-neopolyp/test/test/85a04faeeb2b535797395305af926a6f.jpeg\n",
      "processed  /kaggle/input/bkai-igh-neopolyp/test/test/72d9e593b6be1ac29adbe86f03d900fd.jpeg\n",
      "processed  /kaggle/input/bkai-igh-neopolyp/test/test/94a7f32574d6c748c41743c6c08a1d1a.jpeg\n",
      "processed  /kaggle/input/bkai-igh-neopolyp/test/test/710d568df17586ad8f3297c819c90895.jpeg\n",
      "processed  /kaggle/input/bkai-igh-neopolyp/test/test/c4be73749a0d21db70dd094a7f32574d.jpeg\n",
      "processed  /kaggle/input/bkai-igh-neopolyp/test/test/45b21960c94b0aab4c024a573c692195.jpeg\n",
      "processed  /kaggle/input/bkai-igh-neopolyp/test/test/4e2a6e51d077bad31c8c5f54ffaa27a6.jpeg\n",
      "processed  /kaggle/input/bkai-igh-neopolyp/test/test/0af3feff05dec1eb3a70b145a7d8d3b6.jpeg\n",
      "processed  /kaggle/input/bkai-igh-neopolyp/test/test/1db239dda50f954ba59c7de13a35276a.jpeg\n",
      "processed  /kaggle/input/bkai-igh-neopolyp/test/test/2d9e593b6be1ac29adbe86f03d900fd1.jpeg\n",
      "processed  /kaggle/input/bkai-igh-neopolyp/test/test/df8e26031fbb5e52c41545ba55aadaa7.jpeg\n",
      "processed  /kaggle/input/bkai-igh-neopolyp/test/test/0a5f3601ad4f13ccf1f4b331a412fc44.jpeg\n",
      "processed  /kaggle/input/bkai-igh-neopolyp/test/test/4ca6160127cd1d5ff99c267599fc487b.jpeg\n",
      "processed  /kaggle/input/bkai-igh-neopolyp/test/test/c656702fa602bb3c7abacdbd7e6afd56.jpeg\n",
      "processed  /kaggle/input/bkai-igh-neopolyp/test/test/02fa602bb3c7abacdbd7e6afd56ea7bc.jpeg\n",
      "processed  /kaggle/input/bkai-igh-neopolyp/test/test/343f27ebc5d92b9076135d76d0bbd4ce.jpeg\n",
      "processed  /kaggle/input/bkai-igh-neopolyp/test/test/318ecf467d7ad048df39beb176363408.jpeg\n",
      "processed  /kaggle/input/bkai-igh-neopolyp/test/test/9fc7330398846f67b5df7cdf3f33c3ca.jpeg\n",
      "processed  /kaggle/input/bkai-igh-neopolyp/test/test/66e057db382b8564872a27301a654864.jpeg\n",
      "processed  /kaggle/input/bkai-igh-neopolyp/test/test/ca4d5060a633a8d5b2b2b55157b7781e.jpeg\n",
      "processed  /kaggle/input/bkai-igh-neopolyp/test/test/a6e51d077bad31c8c5f54ffaa27a6235.jpeg\n",
      "processed  /kaggle/input/bkai-igh-neopolyp/test/test/e9082ea2c193ac8d551c149b60f29653.jpeg\n",
      "processed  /kaggle/input/bkai-igh-neopolyp/test/test/6ad1468996b4a9ce6d840b53a6558038.jpeg\n",
      "processed  /kaggle/input/bkai-igh-neopolyp/test/test/e4a17af18f72c8e6166a915669c99390.jpeg\n",
      "processed  /kaggle/input/bkai-igh-neopolyp/test/test/0619ebebe9e9c9d00a4262b4fe4a5a95.jpeg\n",
      "processed  /kaggle/input/bkai-igh-neopolyp/test/test/d3694abb47953b0e4909384b57bb6a05.jpeg\n",
      "processed  /kaggle/input/bkai-igh-neopolyp/test/test/8b8ec74baddc22268d4b4ef4d95ceea1.jpeg\n",
      "processed  /kaggle/input/bkai-igh-neopolyp/test/test/0626ab4ec3d46e602b296cc5cfd263f1.jpeg\n",
      "processed  /kaggle/input/bkai-igh-neopolyp/test/test/633a8d5b2b2b55157b7781e2c706c75c.jpeg\n",
      "processed  /kaggle/input/bkai-igh-neopolyp/test/test/be4d18d5401f659532897255ce2dd4ae.jpeg\n",
      "processed  /kaggle/input/bkai-igh-neopolyp/test/test/ad43fe2cd066b9fdbc3bbc04a3afe1f1.jpeg\n",
      "processed  /kaggle/input/bkai-igh-neopolyp/test/test/c5a0808bee60b246359c68c836f843dc.jpeg\n",
      "processed  /kaggle/input/bkai-igh-neopolyp/test/test/6f67b5df7cdf3f33c3ca4d5060a633a8.jpeg\n",
      "processed  /kaggle/input/bkai-igh-neopolyp/test/test/f13dd311a65d2b46d0a6085835c525af.jpeg\n",
      "processed  /kaggle/input/bkai-igh-neopolyp/test/test/a6a4248a41e8db8b4ed633b456aaafac.jpeg\n",
      "processed  /kaggle/input/bkai-igh-neopolyp/test/test/27738677a6b1f2c6d40b3bbba8f6c704.jpeg\n",
      "processed  /kaggle/input/bkai-igh-neopolyp/test/test/268d4b4ef4d95ceea11957998906d369.jpeg\n",
      "processed  /kaggle/input/bkai-igh-neopolyp/test/test/db5eb2a0e4b50889d874c68c030b9afe.jpeg\n",
      "processed  /kaggle/input/bkai-igh-neopolyp/test/test/f8e5ad89d2844837f2a0f1536ad3f6a5.jpeg\n",
      "processed  /kaggle/input/bkai-igh-neopolyp/test/test/6240619ebebe9e9c9d00a4262b4fe4a5.jpeg\n",
      "processed  /kaggle/input/bkai-igh-neopolyp/test/test/4fda8daadc8dd23ae214d84b5dec33fd.jpeg\n",
      "processed  /kaggle/input/bkai-igh-neopolyp/test/test/ff05dec1eb3a70b145a7d8d3b6c0ed75.jpeg\n",
      "processed  /kaggle/input/bkai-igh-neopolyp/test/test/df366e057db382b8564872a27301a654.jpeg\n",
      "processed  /kaggle/input/bkai-igh-neopolyp/test/test/425b976973f13dd311a65d2b46d0a608.jpeg\n",
      "processed  /kaggle/input/bkai-igh-neopolyp/test/test/8954bb13d3727c7e5e1069646f2f0bb8.jpeg\n",
      "processed  /kaggle/input/bkai-igh-neopolyp/test/test/dc70626ab4ec3d46e602b296cc5cfd26.jpeg\n",
      "processed  /kaggle/input/bkai-igh-neopolyp/test/test/30c2f4fc276ed9f178dc2f4af6266509.jpeg\n",
      "processed  /kaggle/input/bkai-igh-neopolyp/test/test/60a633a8d5b2b2b55157b7781e2c706c.jpeg\n",
      "processed  /kaggle/input/bkai-igh-neopolyp/test/test/13dd311a65d2b46d0a6085835c525af6.jpeg\n",
      "processed  /kaggle/input/bkai-igh-neopolyp/test/test/4f437f0019f7e6af7d7147763bdfb928.jpeg\n",
      "processed  /kaggle/input/bkai-igh-neopolyp/test/test/c41545ba55aadaa77712a48e11d579d9.jpeg\n",
      "processed  /kaggle/input/bkai-igh-neopolyp/test/test/e8bfb905b78a91391adc0bb223c4eaf3.jpeg\n",
      "processed  /kaggle/input/bkai-igh-neopolyp/test/test/60b246359c68c836f843dcf41f4dce3c.jpeg\n",
      "processed  /kaggle/input/bkai-igh-neopolyp/test/test/3b8318ecf467d7ad048df39beb176363.jpeg\n",
      "processed  /kaggle/input/bkai-igh-neopolyp/test/test/8eb5a9a8a8d7fcc9df8e5ad89d284483.jpeg\n",
      "processed  /kaggle/input/bkai-igh-neopolyp/test/test/05734fbeedd0f9da760db74a29abdb04.jpeg\n",
      "processed  /kaggle/input/bkai-igh-neopolyp/test/test/5c1346e62522325c1b9c4fc9cbe1eca1.jpeg\n",
      "processed  /kaggle/input/bkai-igh-neopolyp/test/test/80c643782707d7c359e27888daefee82.jpeg\n",
      "processed  /kaggle/input/bkai-igh-neopolyp/test/test/5664c1711b62f15ec83b97bb11e8e0c4.jpeg\n",
      "processed  /kaggle/input/bkai-igh-neopolyp/test/test/71f2fd85a04faeeb2b535797395305af.jpeg\n",
      "processed  /kaggle/input/bkai-igh-neopolyp/test/test/4c1711b62f15ec83b97bb11e8e0c4416.jpeg\n",
      "processed  /kaggle/input/bkai-igh-neopolyp/test/test/7b5df7cdf3f33c3ca4d5060a633a8d5b.jpeg\n",
      "processed  /kaggle/input/bkai-igh-neopolyp/test/test/cf6644589e532a9ee954f81faedbce39.jpeg\n",
      "processed  /kaggle/input/bkai-igh-neopolyp/test/test/5026b3550534bca540e24f489284b8e6.jpeg\n",
      "processed  /kaggle/input/bkai-igh-neopolyp/test/test/dc0bb223c4eaf3372eae567c94ea04c6.jpeg\n",
      "processed  /kaggle/input/bkai-igh-neopolyp/test/test/faef7fdb2d45b21960c94b0aab4c024a.jpeg\n",
      "processed  /kaggle/input/bkai-igh-neopolyp/test/test/692195f853af7f8a4df1ec859759b7c8.jpeg\n",
      "processed  /kaggle/input/bkai-igh-neopolyp/test/test/eb1ef57af2ed9fbb63b28163a745959c.jpeg\n",
      "processed  /kaggle/input/bkai-igh-neopolyp/test/test/1531871f2fd85a04faeeb2b535797395.jpeg\n",
      "processed  /kaggle/input/bkai-igh-neopolyp/test/test/e7998934d417cb2eb1ef57af2ed9fbb6.jpeg\n",
      "processed  /kaggle/input/bkai-igh-neopolyp/test/test/782707d7c359e27888daefee82519763.jpeg\n",
      "processed  /kaggle/input/bkai-igh-neopolyp/test/test/1c0e9082ea2c193ac8d551c149b60f29.jpeg\n",
      "processed  /kaggle/input/bkai-igh-neopolyp/test/test/d6240619ebebe9e9c9d00a4262b4fe4a.jpeg\n",
      "processed  /kaggle/input/bkai-igh-neopolyp/test/test/019410b1fcf0625f608b4ce97629ab55.jpeg\n",
      "processed  /kaggle/input/bkai-igh-neopolyp/test/test/936de314f2d95e6c487ffa651b477422.jpeg\n",
      "processed  /kaggle/input/bkai-igh-neopolyp/test/test/7330398846f67b5df7cdf3f33c3ca4d5.jpeg\n",
      "processed  /kaggle/input/bkai-igh-neopolyp/test/test/998906d3694abb47953b0e4909384b57.jpeg\n",
      "processed  /kaggle/input/bkai-igh-neopolyp/test/test/cc5cfd263f1f90be28799235026b3550.jpeg\n",
      "processed  /kaggle/input/bkai-igh-neopolyp/test/test/285e26c90e1797c77826f9a7021bab9f.jpeg\n",
      "processed  /kaggle/input/bkai-igh-neopolyp/test/test/98da48d679d7c7c8d3d96fb2b87fbbcf.jpeg\n",
      "processed  /kaggle/input/bkai-igh-neopolyp/test/test/fe1f119f21b248d152b672ab3492fc62.jpeg\n",
      "processed  /kaggle/input/bkai-igh-neopolyp/test/test/7f32574d6c748c41743c6c08a1d1ad8f.jpeg\n",
      "processed  /kaggle/input/bkai-igh-neopolyp/test/test/50534bca540e24f489284b8e6953ad88.jpeg\n",
      "processed  /kaggle/input/bkai-igh-neopolyp/test/test/9632a3c6f7f7fb2a643f15bd0249ddcc.jpeg\n",
      "processed  /kaggle/input/bkai-igh-neopolyp/test/test/d5060a633a8d5b2b2b55157b7781e2c7.jpeg\n",
      "processed  /kaggle/input/bkai-igh-neopolyp/test/test/eff05dec1eb3a70b145a7d8d3b6c0ed7.jpeg\n",
      "processed  /kaggle/input/bkai-igh-neopolyp/test/test/395e56a6d9ba9d45c3dbc695325ded46.jpeg\n",
      "processed  /kaggle/input/bkai-igh-neopolyp/test/test/39dda50f954ba59c7de13a35276a4764.jpeg\n",
      "processed  /kaggle/input/bkai-igh-neopolyp/test/test/4baddc22268d4b4ef4d95ceea1195799.jpeg\n",
      "processed  /kaggle/input/bkai-igh-neopolyp/test/test/7fda8019410b1fcf0625f608b4ce9762.jpeg\n",
      "processed  /kaggle/input/bkai-igh-neopolyp/test/test/3425b976973f13dd311a65d2b46d0a60.jpeg\n",
      "processed  /kaggle/input/bkai-igh-neopolyp/test/test/4e8bfb905b78a91391adc0bb223c4eaf.jpeg\n",
      "processed  /kaggle/input/bkai-igh-neopolyp/test/test/39d6aad6bb0170a40ed32deef71fbe08.jpeg\n",
      "processed  /kaggle/input/bkai-igh-neopolyp/test/test/fcd6da15fc656702fa602bb3c7abacdb.jpeg\n",
      "processed  /kaggle/input/bkai-igh-neopolyp/test/test/15fc656702fa602bb3c7abacdbd7e6af.jpeg\n",
      "processed  /kaggle/input/bkai-igh-neopolyp/test/test/5beb48f0be11d0309d1dff09b8405734.jpeg\n",
      "processed  /kaggle/input/bkai-igh-neopolyp/test/test/41ed86e58224cb76a67d4dcf9596154e.jpeg\n",
      "processed  /kaggle/input/bkai-igh-neopolyp/test/test/8395e56a6d9ba9d45c3dbc695325ded4.jpeg\n",
      "processed  /kaggle/input/bkai-igh-neopolyp/test/test/cf464aa36bf7c09a3bb0e5ca159410b9.jpeg\n"
     ]
    }
   ],
   "source": [
    "trainsize = 256 \n",
    "model.eval()\n",
    "for i in os.listdir(\"/kaggle/input/bkai-igh-neopolyp/test/test\"):\n",
    "    img_path = os.path.join(\"/kaggle/input/bkai-igh-neopolyp/test/test\", i)\n",
    "    ori_img = cv2.imread(img_path)\n",
    "    ori_img = cv2.cvtColor(ori_img, cv2.COLOR_BGR2RGB)\n",
    "    ori_w = ori_img.shape[0]\n",
    "    ori_h = ori_img.shape[1]\n",
    "    img = cv2.resize(ori_img, (trainsize, trainsize))\n",
    "    transformed = val_transform(image=img)\n",
    "    input_img = transformed[\"image\"]\n",
    "    input_img = input_img.unsqueeze(0).to(device)\n",
    "    with torch.no_grad():\n",
    "        output_mask = model.forward(input_img).squeeze(0).cpu().numpy().transpose(1,2,0)\n",
    "    mask = cv2.resize(output_mask, (ori_h, ori_w))\n",
    "    mask = np.argmax(mask, axis=2)\n",
    "    new_rgb_mask = np.zeros((*mask.shape, 3)).astype(np.uint8)\n",
    "    mask_rgb = mask_to_rgb(mask, color_dict)\n",
    "    mask_rgb_true = cv2.cvtColor(mask_rgb, cv2.COLOR_BGR2RGB)\n",
    "    mask_rgb = cv2.cvtColor(mask_rgb, cv2.COLOR_RGB2BGR)\n",
    "    cv2.imwrite(\"predict_mask/{}\".format(i), mask_rgb)\n",
    "    print(\"processed \", img_path)\n",
    "     "
   ]
  },
  {
   "cell_type": "code",
   "execution_count": 24,
   "id": "57450657",
   "metadata": {
    "execution": {
     "iopub.execute_input": "2023-11-13T21:32:31.755411Z",
     "iopub.status.busy": "2023-11-13T21:32:31.754780Z",
     "iopub.status.idle": "2023-11-13T21:32:34.742097Z",
     "shell.execute_reply": "2023-11-13T21:32:34.741038Z"
    },
    "papermill": {
     "duration": 3.013151,
     "end_time": "2023-11-13T21:32:34.744123",
     "exception": false,
     "start_time": "2023-11-13T21:32:31.730972",
     "status": "completed"
    },
    "tags": []
   },
   "outputs": [
    {
     "name": "stdout",
     "output_type": "stream",
     "text": [
      "/kaggle/working/predict_mask/c7e610b1531871f2fd85a04faeeb2b53.jpeg\n",
      "/kaggle/working/predict_mask/a6d9ba9d45c3dbc695325ded465efde9.jpeg\n",
      "/kaggle/working/predict_mask/aafac813fe3ccba3e032dd2948a80c64.jpeg\n",
      "/kaggle/working/predict_mask/dc0bb223c4eaf3372eae567c94ea04c6.jpeg\n",
      "/kaggle/working/predict_mask/2d9e593b6be1ac29adbe86f03d900fd1.jpeg\n",
      "/kaggle/working/predict_mask/02fa602bb3c7abacdbd7e6afd56ea7bc.jpeg\n",
      "/kaggle/working/predict_mask/780fd497e1c0e9082ea2c193ac8d551c.jpeg\n",
      "/kaggle/working/predict_mask/e5e8f14e1e0ae936de314f2d95e6c487.jpeg\n",
      "/kaggle/working/predict_mask/7fda8019410b1fcf0625f608b4ce9762.jpeg\n",
      "/kaggle/working/predict_mask/cbb2a365b5574868eb60861ee1ff0b8a.jpeg\n",
      "/kaggle/working/predict_mask/c695325ded465efde988dfb96d081533.jpeg\n",
      "/kaggle/working/predict_mask/4e2a6e51d077bad31c8c5f54ffaa27a6.jpeg\n",
      "/kaggle/working/predict_mask/d5060a633a8d5b2b2b55157b7781e2c7.jpeg\n",
      "/kaggle/working/predict_mask/ff55177a34fc01019eec999fd84e679b.jpeg\n",
      "/kaggle/working/predict_mask/285e26c90e1797c77826f9a7021bab9f.jpeg\n",
      "/kaggle/working/predict_mask/1ad4f13ccf1f4b331a412fc44655fb51.jpeg\n",
      "/kaggle/working/predict_mask/0af3feff05dec1eb3a70b145a7d8d3b6.jpeg\n",
      "/kaggle/working/predict_mask/ea42b4eebc9e5a87e443434ac60af150.jpeg\n",
      "/kaggle/working/predict_mask/7cdf3f33c3ca4d5060a633a8d5b2b2b5.jpeg\n",
      "/kaggle/working/predict_mask/e1e0ae936de314f2d95e6c487ffa651b.jpeg\n",
      "/kaggle/working/predict_mask/4417fda8019410b1fcf0625f608b4ce9.jpeg\n",
      "/kaggle/working/predict_mask/f8e5ad89d2844837f2a0f1536ad3f6a5.jpeg\n",
      "/kaggle/working/predict_mask/fe1f119f21b248d152b672ab3492fc62.jpeg\n",
      "/kaggle/working/predict_mask/aeeb2b535797395305af926a6f23c5d6.jpeg\n",
      "/kaggle/working/predict_mask/13dd311a65d2b46d0a6085835c525af6.jpeg\n",
      "/kaggle/working/predict_mask/66e057db382b8564872a27301a654864.jpeg\n",
      "/kaggle/working/predict_mask/a51625559c7e610b1531871f2fd85a04.jpeg\n",
      "/kaggle/working/predict_mask/f62f215f0da4ad3a7ab8df9da7386835.jpeg\n",
      "/kaggle/working/predict_mask/7330398846f67b5df7cdf3f33c3ca4d5.jpeg\n",
      "/kaggle/working/predict_mask/e19769fa2d37d32780fd497e1c0e9082.jpeg\n",
      "/kaggle/working/predict_mask/e3c84417fda8019410b1fcf0625f608b.jpeg\n",
      "/kaggle/working/predict_mask/5beb48f0be11d0309d1dff09b8405734.jpeg\n",
      "/kaggle/working/predict_mask/2ed9fbb63b28163a745959c03983064a.jpeg\n",
      "/kaggle/working/predict_mask/7cb2eb1ef57af2ed9fbb63b28163a745.jpeg\n",
      "/kaggle/working/predict_mask/0398846f67b5df7cdf3f33c3ca4d5060.jpeg\n",
      "/kaggle/working/predict_mask/87133b51209db6dcdda5cc8a788edaeb.jpeg\n",
      "/kaggle/working/predict_mask/c22268d4b4ef4d95ceea11957998906d.jpeg\n",
      "/kaggle/working/predict_mask/dd094a7f32574d6c748c41743c6c08a1.jpeg\n",
      "/kaggle/working/predict_mask/94a7f32574d6c748c41743c6c08a1d1a.jpeg\n",
      "/kaggle/working/predict_mask/c656702fa602bb3c7abacdbd7e6afd56.jpeg\n",
      "/kaggle/working/predict_mask/50534bca540e24f489284b8e6953ad88.jpeg\n",
      "/kaggle/working/predict_mask/3b8318ecf467d7ad048df39beb176363.jpeg\n",
      "/kaggle/working/predict_mask/e73749a0d21db70dd094a7f32574d6c7.jpeg\n",
      "/kaggle/working/predict_mask/df8e26031fbb5e52c41545ba55aadaa7.jpeg\n",
      "/kaggle/working/predict_mask/7b5df7cdf3f33c3ca4d5060a633a8d5b.jpeg\n",
      "/kaggle/working/predict_mask/633a8d5b2b2b55157b7781e2c706c75c.jpeg\n",
      "/kaggle/working/predict_mask/68d4b4ef4d95ceea11957998906d3694.jpeg\n",
      "/kaggle/working/predict_mask/a6e51d077bad31c8c5f54ffaa27a6235.jpeg\n",
      "/kaggle/working/predict_mask/625559c7e610b1531871f2fd85a04fae.jpeg\n",
      "/kaggle/working/predict_mask/0fca6a4248a41e8db8b4ed633b456aaa.jpeg\n",
      "/kaggle/working/predict_mask/faef7fdb2d45b21960c94b0aab4c024a.jpeg\n",
      "/kaggle/working/predict_mask/8954bb13d3727c7e5e1069646f2f0bb8.jpeg\n",
      "/kaggle/working/predict_mask/d694539ef2424a9218697283baa3657e.jpeg\n",
      "/kaggle/working/predict_mask/f13dd311a65d2b46d0a6085835c525af.jpeg\n",
      "/kaggle/working/predict_mask/39dda50f954ba59c7de13a35276a4764.jpeg\n",
      "/kaggle/working/predict_mask/80cae6daedd989517cb8041ed86e5822.jpeg\n",
      "/kaggle/working/predict_mask/6240619ebebe9e9c9d00a4262b4fe4a5.jpeg\n",
      "/kaggle/working/predict_mask/7936140a2d5fc1443c4e445927738677.jpeg\n",
      "/kaggle/working/predict_mask/e1797c77826f9a7021bab9fc73303988.jpeg\n",
      "/kaggle/working/predict_mask/8b8ec74baddc22268d4b4ef4d95ceea1.jpeg\n",
      "/kaggle/working/predict_mask/e8bfb905b78a91391adc0bb223c4eaf3.jpeg\n",
      "/kaggle/working/predict_mask/9fc7330398846f67b5df7cdf3f33c3ca.jpeg\n",
      "/kaggle/working/predict_mask/f14e1e0ae936de314f2d95e6c487ffa6.jpeg\n",
      "/kaggle/working/predict_mask/fcd6da15fc656702fa602bb3c7abacdb.jpeg\n",
      "/kaggle/working/predict_mask/1c0e9082ea2c193ac8d551c149b60f29.jpeg\n",
      "/kaggle/working/predict_mask/e7998934d417cb2eb1ef57af2ed9fbb6.jpeg\n",
      "/kaggle/working/predict_mask/e56a6d9ba9d45c3dbc695325ded465ef.jpeg\n",
      "/kaggle/working/predict_mask/a9d45c3dbc695325ded465efde988dfb.jpeg\n",
      "/kaggle/working/predict_mask/30c2f4fc276ed9f178dc2f4af6266509.jpeg\n",
      "/kaggle/working/predict_mask/6f4d4987ea3b4bae5672a230194c5a08.jpeg\n",
      "/kaggle/working/predict_mask/97e1c0e9082ea2c193ac8d551c149b60.jpeg\n",
      "/kaggle/working/predict_mask/eb1ef57af2ed9fbb63b28163a745959c.jpeg\n",
      "/kaggle/working/predict_mask/71f2fd85a04faeeb2b535797395305af.jpeg\n",
      "/kaggle/working/predict_mask/7f0019f7e6af7d7147763bdfb928d788.jpeg\n",
      "/kaggle/working/predict_mask/0619ebebe9e9c9d00a4262b4fe4a5a95.jpeg\n",
      "/kaggle/working/predict_mask/cdf3f33c3ca4d5060a633a8d5b2b2b55.jpeg\n",
      "/kaggle/working/predict_mask/cc5cfd263f1f90be28799235026b3550.jpeg\n",
      "/kaggle/working/predict_mask/c193ac8d551c149b60f2965341caf528.jpeg\n",
      "/kaggle/working/predict_mask/3dd311a65d2b46d0a6085835c525af63.jpeg\n",
      "/kaggle/working/predict_mask/4fda8daadc8dd23ae214d84b5dec33fd.jpeg\n",
      "/kaggle/working/predict_mask/6ad1468996b4a9ce6d840b53a6558038.jpeg\n",
      "/kaggle/working/predict_mask/be86f03d900fd197cd955fa095f97845.jpeg\n",
      "/kaggle/working/predict_mask/1002ec4a1fe748f3085f1ce88cbdf366.jpeg\n",
      "/kaggle/working/predict_mask/3c3ca4d5060a633a8d5b2b2b55157b77.jpeg\n",
      "/kaggle/working/predict_mask/98da48d679d7c7c8d3d96fb2b87fbbcf.jpeg\n",
      "/kaggle/working/predict_mask/15fc656702fa602bb3c7abacdbd7e6af.jpeg\n",
      "/kaggle/working/predict_mask/391adc0bb223c4eaf3372eae567c94ea.jpeg\n",
      "/kaggle/working/predict_mask/ca4d5060a633a8d5b2b2b55157b7781e.jpeg\n",
      "/kaggle/working/predict_mask/80c643782707d7c359e27888daefee82.jpeg\n",
      "/kaggle/working/predict_mask/343f27ebc5d92b9076135d76d0bbd4ce.jpeg\n",
      "/kaggle/working/predict_mask/3425b976973f13dd311a65d2b46d0a60.jpeg\n",
      "/kaggle/working/predict_mask/3c692195f853af7f8a4df1ec859759b7.jpeg\n",
      "/kaggle/working/predict_mask/85a04faeeb2b535797395305af926a6f.jpeg\n",
      "/kaggle/working/predict_mask/395e56a6d9ba9d45c3dbc695325ded46.jpeg\n",
      "/kaggle/working/predict_mask/dd78294679c9cbb2a365b5574868eb60.jpeg\n",
      "/kaggle/working/predict_mask/cb2eb1ef57af2ed9fbb63b28163a7459.jpeg\n",
      "/kaggle/working/predict_mask/77e004e8bfb905b78a91391adc0bb223.jpeg\n",
      "/kaggle/working/predict_mask/5664c1711b62f15ec83b97bb11e8e0c4.jpeg\n",
      "/kaggle/working/predict_mask/3f33c3ca4d5060a633a8d5b2b2b55157.jpeg\n",
      "/kaggle/working/predict_mask/cf6644589e532a9ee954f81faedbce39.jpeg\n",
      "/kaggle/working/predict_mask/63b8318ecf467d7ad048df39beb17636.jpeg\n",
      "/kaggle/working/predict_mask/0a5f3601ad4f13ccf1f4b331a412fc44.jpeg\n",
      "/kaggle/working/predict_mask/8eb5a9a8a8d7fcc9df8e5ad89d284483.jpeg\n",
      "/kaggle/working/predict_mask/afe1f119f21b248d152b672ab3492fc6.jpeg\n",
      "/kaggle/working/predict_mask/72d9e593b6be1ac29adbe86f03d900fd.jpeg\n",
      "/kaggle/working/predict_mask/2cd066b9fdbc3bbc04a3afe1f119f21b.jpeg\n",
      "/kaggle/working/predict_mask/fdbc3bbc04a3afe1f119f21b248d152b.jpeg\n",
      "/kaggle/working/predict_mask/1209db6dcdda5cc8a788edaeb6aa460a.jpeg\n",
      "/kaggle/working/predict_mask/677a6b1f2c6d40b3bbba8f6c704801b3.jpeg\n",
      "/kaggle/working/predict_mask/8395e56a6d9ba9d45c3dbc695325ded4.jpeg\n",
      "/kaggle/working/predict_mask/26679bff55177a34fc01019eec999fd8.jpeg\n",
      "/kaggle/working/predict_mask/8fa8625605da2023387fd56c04414eaa.jpeg\n",
      "/kaggle/working/predict_mask/6679bff55177a34fc01019eec999fd84.jpeg\n",
      "/kaggle/working/predict_mask/318ecf467d7ad048df39beb176363408.jpeg\n",
      "/kaggle/working/predict_mask/e2cd066b9fdbc3bbc04a3afe1f119f21.jpeg\n",
      "/kaggle/working/predict_mask/d077bad31c8c5f54ffaa27a623511c38.jpeg\n",
      "/kaggle/working/predict_mask/6d3694abb47953b0e4909384b57bb6a0.jpeg\n",
      "/kaggle/working/predict_mask/dc70626ab4ec3d46e602b296cc5cfd26.jpeg\n",
      "/kaggle/working/predict_mask/782707d7c359e27888daefee82519763.jpeg\n",
      "/kaggle/working/predict_mask/626650908b1cb932a767bf5487ced51b.jpeg\n",
      "/kaggle/working/predict_mask/2a365b5574868eb60861ee1ff0b8a4f6.jpeg\n",
      "/kaggle/working/predict_mask/c4be73749a0d21db70dd094a7f32574d.jpeg\n",
      "/kaggle/working/predict_mask/6f67b5df7cdf3f33c3ca4d5060a633a8.jpeg\n",
      "/kaggle/working/predict_mask/ad43fe2cd066b9fdbc3bbc04a3afe1f1.jpeg\n",
      "/kaggle/working/predict_mask/39d6aad6bb0170a40ed32deef71fbe08.jpeg\n",
      "/kaggle/working/predict_mask/e9082ea2c193ac8d551c149b60f29653.jpeg\n",
      "/kaggle/working/predict_mask/db5eb2a0e4b50889d874c68c030b9afe.jpeg\n",
      "/kaggle/working/predict_mask/5e8f14e1e0ae936de314f2d95e6c487f.jpeg\n",
      "/kaggle/working/predict_mask/710d568df17586ad8f3297c819c90895.jpeg\n",
      "/kaggle/working/predict_mask/cf464aa36bf7c09a3bb0e5ca159410b9.jpeg\n",
      "/kaggle/working/predict_mask/7f32574d6c748c41743c6c08a1d1ad8f.jpeg\n",
      "/kaggle/working/predict_mask/4ef4d95ceea11957998906d3694abb47.jpeg\n",
      "/kaggle/working/predict_mask/425b976973f13dd311a65d2b46d0a608.jpeg\n",
      "/kaggle/working/predict_mask/d3694abb47953b0e4909384b57bb6a05.jpeg\n",
      "/kaggle/working/predict_mask/45b21960c94b0aab4c024a573c692195.jpeg\n",
      "/kaggle/working/predict_mask/692195f853af7f8a4df1ec859759b7c8.jpeg\n",
      "/kaggle/working/predict_mask/bec33b5e3d68f9d4c331587f9b9d49e2.jpeg\n",
      "/kaggle/working/predict_mask/5026b3550534bca540e24f489284b8e6.jpeg\n",
      "/kaggle/working/predict_mask/a3657e4314fe384eb2ba3adfda6c1899.jpeg\n",
      "/kaggle/working/predict_mask/4e8bfb905b78a91391adc0bb223c4eaf.jpeg\n",
      "/kaggle/working/predict_mask/0a0317371a966bf4b3466463a3c64db1.jpeg\n",
      "/kaggle/working/predict_mask/f7fdb2d45b21960c94b0aab4c024a573.jpeg\n",
      "/kaggle/working/predict_mask/05b78a91391adc0bb223c4eaf3372eae.jpeg\n",
      "/kaggle/working/predict_mask/6231002ec4a1fe748f3085f1ce88cbdf.jpeg\n",
      "/kaggle/working/predict_mask/df366e057db382b8564872a27301a654.jpeg\n",
      "/kaggle/working/predict_mask/c41545ba55aadaa77712a48e11d579d9.jpeg\n",
      "/kaggle/working/predict_mask/ff05dec1eb3a70b145a7d8d3b6c0ed75.jpeg\n",
      "/kaggle/working/predict_mask/eff05dec1eb3a70b145a7d8d3b6c0ed7.jpeg\n",
      "/kaggle/working/predict_mask/4ca6160127cd1d5ff99c267599fc487b.jpeg\n",
      "/kaggle/working/predict_mask/4f437f0019f7e6af7d7147763bdfb928.jpeg\n",
      "/kaggle/working/predict_mask/67d4dcf9596154efb7cef748d9cbd617.jpeg\n",
      "/kaggle/working/predict_mask/5b21960c94b0aab4c024a573c692195f.jpeg\n",
      "/kaggle/working/predict_mask/be4d18d5401f659532897255ce2dd4ae.jpeg\n",
      "/kaggle/working/predict_mask/268d4b4ef4d95ceea11957998906d369.jpeg\n",
      "/kaggle/working/predict_mask/a48847ae8395e56a6d9ba9d45c3dbc69.jpeg\n",
      "/kaggle/working/predict_mask/1b62f15ec83b97bb11e8e0c4416c1931.jpeg\n",
      "/kaggle/working/predict_mask/6ddca6ee1af35b65bd9ea42cfcfedb5e.jpeg\n",
      "/kaggle/working/predict_mask/559c7e610b1531871f2fd85a04faeeb2.jpeg\n",
      "/kaggle/working/predict_mask/0626ab4ec3d46e602b296cc5cfd263f1.jpeg\n",
      "/kaggle/working/predict_mask/eecd70ebce6347c491b37c8c2e5a64a8.jpeg\n",
      "/kaggle/working/predict_mask/936de314f2d95e6c487ffa651b477422.jpeg\n",
      "/kaggle/working/predict_mask/7ad1cf2eb9d32a3dc907950289e976c7.jpeg\n",
      "/kaggle/working/predict_mask/d6bf62f215f0da4ad3a7ab8df9da7386.jpeg\n",
      "/kaggle/working/predict_mask/3bbc04a3afe1f119f21b248d152b672a.jpeg\n",
      "/kaggle/working/predict_mask/05734fbeedd0f9da760db74a29abdb04.jpeg\n",
      "/kaggle/working/predict_mask/82ea2c193ac8d551c149b60f2965341c.jpeg\n",
      "/kaggle/working/predict_mask/fb905b78a91391adc0bb223c4eaf3372.jpeg\n",
      "/kaggle/working/predict_mask/af35b65bd9ea42cfcfedb5eb2a0e4b50.jpeg\n",
      "/kaggle/working/predict_mask/b70dd094a7f32574d6c748c41743c6c0.jpeg\n",
      "/kaggle/working/predict_mask/d6240619ebebe9e9c9d00a4262b4fe4a.jpeg\n",
      "/kaggle/working/predict_mask/9632a3c6f7f7fb2a643f15bd0249ddcc.jpeg\n",
      "/kaggle/working/predict_mask/a6a4248a41e8db8b4ed633b456aaafac.jpeg\n",
      "/kaggle/working/predict_mask/4c1711b62f15ec83b97bb11e8e0c4416.jpeg\n",
      "/kaggle/working/predict_mask/f8e26031fbb5e52c41545ba55aadaa77.jpeg\n",
      "/kaggle/working/predict_mask/41ed86e58224cb76a67d4dcf9596154e.jpeg\n",
      "/kaggle/working/predict_mask/e4a17af18f72c8e6166a915669c99390.jpeg\n",
      "/kaggle/working/predict_mask/3657e4314fe384eb2ba3adfda6c1899f.jpeg\n",
      "/kaggle/working/predict_mask/60b246359c68c836f843dcf41f4dce3c.jpeg\n",
      "/kaggle/working/predict_mask/998906d3694abb47953b0e4909384b57.jpeg\n",
      "/kaggle/working/predict_mask/8cbdf366e057db382b8564872a27301a.jpeg\n",
      "/kaggle/working/predict_mask/314fe384eb2ba3adfda6c1899fdc9837.jpeg\n",
      "/kaggle/working/predict_mask/1db239dda50f954ba59c7de13a35276a.jpeg\n",
      "/kaggle/working/predict_mask/5a51625559c7e610b1531871f2fd85a0.jpeg\n",
      "/kaggle/working/predict_mask/1531871f2fd85a04faeeb2b535797395.jpeg\n",
      "/kaggle/working/predict_mask/019410b1fcf0625f608b4ce97629ab55.jpeg\n",
      "/kaggle/working/predict_mask/54ba59c7de13a35276a476420655433a.jpeg\n",
      "/kaggle/working/predict_mask/88e16d4ca6160127cd1d5ff99c267599.jpeg\n",
      "/kaggle/working/predict_mask/6b83ef461c2a337948a41964c1d4f50a.jpeg\n",
      "/kaggle/working/predict_mask/7af2ed9fbb63b28163a745959c039830.jpeg\n",
      "/kaggle/working/predict_mask/4baddc22268d4b4ef4d95ceea1195799.jpeg\n",
      "/kaggle/working/predict_mask/3c84417fda8019410b1fcf0625f608b4.jpeg\n",
      "/kaggle/working/predict_mask/9c7976c1182df0de51d32128c358d1fd.jpeg\n",
      "/kaggle/working/predict_mask/27738677a6b1f2c6d40b3bbba8f6c704.jpeg\n",
      "/kaggle/working/predict_mask/a15fc656702fa602bb3c7abacdbd7e6a.jpeg\n",
      "/kaggle/working/predict_mask/cb1b387133b51209db6dcdda5cc8a788.jpeg\n",
      "/kaggle/working/predict_mask/461c2a337948a41964c1d4f50a5f3601.jpeg\n",
      "/kaggle/working/predict_mask/60a633a8d5b2b2b55157b7781e2c706c.jpeg\n",
      "/kaggle/working/predict_mask/5c1346e62522325c1b9c4fc9cbe1eca1.jpeg\n",
      "/kaggle/working/predict_mask/b21960c94b0aab4c024a573c692195f8.jpeg\n",
      "/kaggle/working/predict_mask/c5a0808bee60b246359c68c836f843dc.jpeg\n"
     ]
    }
   ],
   "source": [
    "import numpy as np\n",
    "import pandas as pd\n",
    "import cv2\n",
    "import os\n",
    "\n",
    "def rle_to_string(runs):\n",
    "    return ' '.join(str(x) for x in runs)\n",
    "\n",
    "def rle_encode_one_mask(mask):\n",
    "    pixels = mask.flatten()\n",
    "    pixels[pixels > 225] = 255\n",
    "    pixels[pixels <= 225] = 0\n",
    "    use_padding = False\n",
    "    if pixels[0] or pixels[-1]:\n",
    "        use_padding = True\n",
    "        pixel_padded = np.zeros([len(pixels) + 2], dtype=pixels.dtype)\n",
    "        pixel_padded[1:-1] = pixels\n",
    "        pixels = pixel_padded\n",
    "    \n",
    "    rle = np.where(pixels[1:] != pixels[:-1])[0] + 2\n",
    "    if use_padding:\n",
    "        rle = rle - 1\n",
    "    rle[1::2] = rle[1::2] - rle[:-1:2]\n",
    "    return rle_to_string(rle)\n",
    "\n",
    "def rle2mask(mask_rle, shape=(3,3)):\n",
    "    '''\n",
    "    mask_rle: run-length as string formated (start length)\n",
    "    shape: (width,height) of array to return \n",
    "    Returns numpy array, 1 - mask, 0 - background\n",
    "\n",
    "    '''\n",
    "    s = mask_rle.split()\n",
    "    starts, lengths = [np.asarray(x, dtype=int) for x in (s[0:][::2], s[1:][::2])]\n",
    "    starts -= 1\n",
    "    ends = starts + lengths\n",
    "    img = np.zeros(shape[0]*shape[1], dtype=np.uint8)\n",
    "    for lo, hi in zip(starts, ends):\n",
    "        img[lo:hi] = 1\n",
    "    return img.reshape(shape).T\n",
    "\n",
    "def mask2string(dir):\n",
    "    ## mask --> string\n",
    "    strings = []\n",
    "    ids = []\n",
    "    ws, hs = [[] for i in range(2)]\n",
    "    for image_id in os.listdir(dir):\n",
    "        id = image_id.split('.')[0]\n",
    "        path = os.path.join(dir, image_id)\n",
    "        print(path)\n",
    "        img = cv2.imread(path)[:,:,::-1]\n",
    "        h, w = img.shape[0], img.shape[1]\n",
    "        for channel in range(2):\n",
    "            ws.append(w)\n",
    "            hs.append(h)\n",
    "            ids.append(f'{id}_{channel}')\n",
    "            string = rle_encode_one_mask(img[:,:,channel])\n",
    "            strings.append(string)\n",
    "    r = {\n",
    "        'ids': ids,\n",
    "        'strings': strings,\n",
    "    }\n",
    "    return r\n",
    "\n",
    "\n",
    "MASK_DIR_PATH = '/kaggle/working/predict_mask' # change this to the path to your output mask folder\n",
    "dir = MASK_DIR_PATH\n",
    "res = mask2string(dir)\n",
    "df = pd.DataFrame(columns=['Id', 'Expected'])\n",
    "df['Id'] = res['ids']\n",
    "df['Expected'] = res['strings']\n",
    "\n",
    "df.to_csv(r'output.csv', index=False)"
   ]
  }
 ],
 "metadata": {
  "kaggle": {
   "accelerator": "gpu",
   "dataSources": [
    {
     "databundleVersionId": 2715462,
     "sourceId": 30892,
     "sourceType": "competition"
    },
    {
     "datasetId": 3993378,
     "sourceId": 6952810,
     "sourceType": "datasetVersion"
    },
    {
     "datasetId": 3994695,
     "sourceId": 6955036,
     "sourceType": "datasetVersion"
    },
    {
     "datasetId": 3997265,
     "sourceId": 6958761,
     "sourceType": "datasetVersion"
    },
    {
     "datasetId": 3998357,
     "sourceId": 6960361,
     "sourceType": "datasetVersion"
    }
   ],
   "dockerImageVersionId": 30579,
   "isGpuEnabled": true,
   "isInternetEnabled": true,
   "language": "python",
   "sourceType": "notebook"
  },
  "kernelspec": {
   "display_name": "Python 3",
   "language": "python",
   "name": "python3"
  },
  "language_info": {
   "codemirror_mode": {
    "name": "ipython",
    "version": 3
   },
   "file_extension": ".py",
   "mimetype": "text/x-python",
   "name": "python",
   "nbconvert_exporter": "python",
   "pygments_lexer": "ipython3",
   "version": "3.10.12"
  },
  "papermill": {
   "default_parameters": {},
   "duration": 1729.577822,
   "end_time": "2023-11-13T21:32:37.491786",
   "environment_variables": {},
   "exception": null,
   "input_path": "__notebook__.ipynb",
   "output_path": "__notebook__.ipynb",
   "parameters": {},
   "start_time": "2023-11-13T21:03:47.913964",
   "version": "2.4.0"
  }
 },
 "nbformat": 4,
 "nbformat_minor": 5
}
